{
 "cells": [
  {
   "cell_type": "code",
   "execution_count": 30,
   "metadata": {},
   "outputs": [],
   "source": [
    "import numpy as np\n",
    "import pandas as pd\n",
    "from sklearn.model_selection import train_test_split\n",
    "from sklearn.linear_model import LinearRegression\n",
    "from sklearn.linear_model import Ridge\n",
    "from sklearn.linear_model import Lasso\n",
    "from sklearn.linear_model import ElasticNet\n",
    "from sklearn.preprocessing import StandardScaler\n",
    "from sklearn.metrics import r2_score\n",
    "from sklearn.model_selection import GridSearchCV #para ajustar los hiperparamatros\n",
    "\n",
    "from sklearn.linear_model import LogisticRegression\n",
    "from sklearn.tree import DecisionTreeRegressor\n",
    "from sklearn.model_selection import cross_val_score\n",
    "from sklearn.metrics import classification_report\n",
    "from sklearn.svm import SVC\n",
    "from sklearn.metrics import plot_roc_curve, roc_curve, roc_auc_score"
   ]
  },
  {
   "cell_type": "markdown",
   "metadata": {},
   "source": [
    "**Nombre:** Victor Manuel Oviedo.\n",
    "\n",
    "\n",
    "**c.c.** 1017242142."
   ]
  },
  {
   "cell_type": "markdown",
   "metadata": {},
   "source": [
    "## Regresión"
   ]
  },
  {
   "cell_type": "markdown",
   "metadata": {},
   "source": [
    "A Data-Driven Statistical Model for Predicting the Critical Temperature of a Superconductor\n",
    "\n",
    "En este estudio se crea un modelo estadístico para predecir la temperatura crítica  Tc  de materiales superconductores. Este modelo se basa en la fórmula química de los materiales superconductores y de otras características extraídas de esta composición química.\n",
    "\n",
    "En el dataset la primera columna es informativa y representa la composición del material, la segunda columna contiene la variable objetivo critical_temp que representa la temperatura crítica  Tc  y las demás columnas son las características usadas para la predicción.\n",
    "\n",
    "Objetivo: Predecir la temperatura crítica a partir de las características del dataset utilizando diferentes modelos de regresión lineal.\n",
    "\n",
    "1) Diseñe el mejor modelo posible utilizando las diferentes variaciones del modelo de regresión lineal.\n",
    "\n",
    "2) Encuentre y describa las características con mayor capacidad predictiva en el conjunto de datos."
   ]
  },
  {
   "cell_type": "code",
   "execution_count": 2,
   "metadata": {},
   "outputs": [
    {
     "name": "stdout",
     "output_type": "stream",
     "text": [
      "--2021-10-09 01:55:37--  https://www.dropbox.com/s/eg4m4jge6zbx23l/superconductor_data.zip?dl=0\n",
      "Resolviendo www.dropbox.com (www.dropbox.com)... 162.125.5.18, 2620:100:601d:18::a27d:512\n",
      "Conectando con www.dropbox.com (www.dropbox.com)[162.125.5.18]:443... conectado.\n",
      "Petición HTTP enviada, esperando respuesta... 301 Moved Permanently\n",
      "Ubicación: /s/raw/eg4m4jge6zbx23l/superconductor_data.zip [siguiente]\n",
      "--2021-10-09 01:55:39--  https://www.dropbox.com/s/raw/eg4m4jge6zbx23l/superconductor_data.zip\n",
      "Reutilizando la conexión con www.dropbox.com:443.\n",
      "Petición HTTP enviada, esperando respuesta... 302 Found\n",
      "Ubicación: https://uc26fb0ea09fecacbca5d2dc0332.dl.dropboxusercontent.com/cd/0/inline/BXsMYJMfkZrzHapc3V6T9ZdspwbGz-gxFpJp3_jbozIxJ5HJxxl-ieHv_ggLfTVf_4fUXoxO1z32zAdnX6cHetRInqJ_jnrf9aRbFWgsUUPjZkLHucyJgos5mnCpH41cGeEkO4qFZcrnhboIuZffJ13p/file# [siguiente]\n",
      "--2021-10-09 01:55:40--  https://uc26fb0ea09fecacbca5d2dc0332.dl.dropboxusercontent.com/cd/0/inline/BXsMYJMfkZrzHapc3V6T9ZdspwbGz-gxFpJp3_jbozIxJ5HJxxl-ieHv_ggLfTVf_4fUXoxO1z32zAdnX6cHetRInqJ_jnrf9aRbFWgsUUPjZkLHucyJgos5mnCpH41cGeEkO4qFZcrnhboIuZffJ13p/file\n",
      "Resolviendo uc26fb0ea09fecacbca5d2dc0332.dl.dropboxusercontent.com (uc26fb0ea09fecacbca5d2dc0332.dl.dropboxusercontent.com)... 162.125.5.15, 2620:100:601d:15::a27d:50f\n",
      "Conectando con uc26fb0ea09fecacbca5d2dc0332.dl.dropboxusercontent.com (uc26fb0ea09fecacbca5d2dc0332.dl.dropboxusercontent.com)[162.125.5.15]:443... conectado.\n",
      "Petición HTTP enviada, esperando respuesta... 302 Found\n",
      "Ubicación: /cd/0/inline2/BXuNf7cHqNUDQnLwC20Jz0e3EFpXnOBNBJ2d_r_fpkNMgaPTToue-1NVeGYHWtxH9HH3_XS8rjMyae1LdgRnzkVav8Tr9clX8VnzGeyX_Em3tI5GvHR19MF_toju5SOu_Qybuym-fwls5k1dQi93e_ZUBbv-LXaQjuobMwBVtbo7AMdNy2H2k-qNdg8lv0Zhti44VThkk8kB3OA1zB64vSMbQUkhPsV5v9YBEYS9s2iFjFk7OZBfibUzGUYfeOTX8jb-e4niiTiFxlPgCPd6s4r_VJjS894xnpTPJNI2_EssgSWQHCV_zbreDBb48EsobR-9EdMYbbZ1UIbz5eVBrLAw0w9REYJHk8MrqYprkx36jL_6BG10FWmPxN53ajlnca4/file [siguiente]\n",
      "--2021-10-09 01:55:40--  https://uc26fb0ea09fecacbca5d2dc0332.dl.dropboxusercontent.com/cd/0/inline2/BXuNf7cHqNUDQnLwC20Jz0e3EFpXnOBNBJ2d_r_fpkNMgaPTToue-1NVeGYHWtxH9HH3_XS8rjMyae1LdgRnzkVav8Tr9clX8VnzGeyX_Em3tI5GvHR19MF_toju5SOu_Qybuym-fwls5k1dQi93e_ZUBbv-LXaQjuobMwBVtbo7AMdNy2H2k-qNdg8lv0Zhti44VThkk8kB3OA1zB64vSMbQUkhPsV5v9YBEYS9s2iFjFk7OZBfibUzGUYfeOTX8jb-e4niiTiFxlPgCPd6s4r_VJjS894xnpTPJNI2_EssgSWQHCV_zbreDBb48EsobR-9EdMYbbZ1UIbz5eVBrLAw0w9REYJHk8MrqYprkx36jL_6BG10FWmPxN53ajlnca4/file\n",
      "Reutilizando la conexión con uc26fb0ea09fecacbca5d2dc0332.dl.dropboxusercontent.com:443.\n",
      "Petición HTTP enviada, esperando respuesta... 200 OK\n",
      "Longitud: 6907502 (6,6M) [application/zip]\n",
      "Guardando como: “superconductor_data.zip”\n",
      "\n",
      "superconductor_data 100%[===================>]   6,59M   249KB/s    en 39s     \n",
      "\n",
      "2021-10-09 01:56:20 (171 KB/s) - “superconductor_data.zip” guardado [6907502/6907502]\n",
      "\n"
     ]
    }
   ],
   "source": [
    "!wget -O superconductor_data.zip https://www.dropbox.com/s/eg4m4jge6zbx23l/superconductor_data.zip?dl=0\n",
    "superconductor_data = pd.read_csv(\"superconductor_data.zip\", compression=\"zip\", index_col=0)"
   ]
  },
  {
   "cell_type": "code",
   "execution_count": 3,
   "metadata": {},
   "outputs": [
    {
     "data": {
      "text/html": [
       "<div>\n",
       "<style scoped>\n",
       "    .dataframe tbody tr th:only-of-type {\n",
       "        vertical-align: middle;\n",
       "    }\n",
       "\n",
       "    .dataframe tbody tr th {\n",
       "        vertical-align: top;\n",
       "    }\n",
       "\n",
       "    .dataframe thead th {\n",
       "        text-align: right;\n",
       "    }\n",
       "</style>\n",
       "<table border=\"1\" class=\"dataframe\">\n",
       "  <thead>\n",
       "    <tr style=\"text-align: right;\">\n",
       "      <th></th>\n",
       "      <th>material</th>\n",
       "      <th>critical_temp</th>\n",
       "      <th>number_of_elements</th>\n",
       "      <th>mean_atomic_mass</th>\n",
       "      <th>wtd_mean_atomic_mass</th>\n",
       "      <th>gmean_atomic_mass</th>\n",
       "      <th>wtd_gmean_atomic_mass</th>\n",
       "      <th>entropy_atomic_mass</th>\n",
       "      <th>wtd_entropy_atomic_mass</th>\n",
       "      <th>range_atomic_mass</th>\n",
       "      <th>...</th>\n",
       "      <th>wtd_mean_Valence</th>\n",
       "      <th>gmean_Valence</th>\n",
       "      <th>wtd_gmean_Valence</th>\n",
       "      <th>entropy_Valence</th>\n",
       "      <th>wtd_entropy_Valence</th>\n",
       "      <th>range_Valence</th>\n",
       "      <th>wtd_range_Valence</th>\n",
       "      <th>std_Valence</th>\n",
       "      <th>wtd_std_Valence</th>\n",
       "      <th>critical_temp.1</th>\n",
       "    </tr>\n",
       "  </thead>\n",
       "  <tbody>\n",
       "    <tr>\n",
       "      <th>0</th>\n",
       "      <td>Ba0.2La1.8Cu1O4</td>\n",
       "      <td>29.00</td>\n",
       "      <td>4</td>\n",
       "      <td>88.944468</td>\n",
       "      <td>57.862692</td>\n",
       "      <td>66.361592</td>\n",
       "      <td>36.116612</td>\n",
       "      <td>1.181795</td>\n",
       "      <td>1.062396</td>\n",
       "      <td>122.90607</td>\n",
       "      <td>...</td>\n",
       "      <td>2.257143</td>\n",
       "      <td>2.213364</td>\n",
       "      <td>2.219783</td>\n",
       "      <td>1.368922</td>\n",
       "      <td>1.066221</td>\n",
       "      <td>1</td>\n",
       "      <td>1.085714</td>\n",
       "      <td>0.433013</td>\n",
       "      <td>0.437059</td>\n",
       "      <td>29.00</td>\n",
       "    </tr>\n",
       "    <tr>\n",
       "      <th>1</th>\n",
       "      <td>Ba0.1La1.9Ag0.1Cu0.9O4</td>\n",
       "      <td>26.00</td>\n",
       "      <td>5</td>\n",
       "      <td>92.729214</td>\n",
       "      <td>58.518416</td>\n",
       "      <td>73.132787</td>\n",
       "      <td>36.396602</td>\n",
       "      <td>1.449309</td>\n",
       "      <td>1.057755</td>\n",
       "      <td>122.90607</td>\n",
       "      <td>...</td>\n",
       "      <td>2.257143</td>\n",
       "      <td>1.888175</td>\n",
       "      <td>2.210679</td>\n",
       "      <td>1.557113</td>\n",
       "      <td>1.047221</td>\n",
       "      <td>2</td>\n",
       "      <td>1.128571</td>\n",
       "      <td>0.632456</td>\n",
       "      <td>0.468606</td>\n",
       "      <td>26.00</td>\n",
       "    </tr>\n",
       "    <tr>\n",
       "      <th>2</th>\n",
       "      <td>Ba0.1La1.9Cu1O4</td>\n",
       "      <td>19.00</td>\n",
       "      <td>4</td>\n",
       "      <td>88.944468</td>\n",
       "      <td>57.885242</td>\n",
       "      <td>66.361592</td>\n",
       "      <td>36.122509</td>\n",
       "      <td>1.181795</td>\n",
       "      <td>0.975980</td>\n",
       "      <td>122.90607</td>\n",
       "      <td>...</td>\n",
       "      <td>2.271429</td>\n",
       "      <td>2.213364</td>\n",
       "      <td>2.232679</td>\n",
       "      <td>1.368922</td>\n",
       "      <td>1.029175</td>\n",
       "      <td>1</td>\n",
       "      <td>1.114286</td>\n",
       "      <td>0.433013</td>\n",
       "      <td>0.444697</td>\n",
       "      <td>19.00</td>\n",
       "    </tr>\n",
       "    <tr>\n",
       "      <th>4</th>\n",
       "      <td>Ba0.3La1.7Cu1O4</td>\n",
       "      <td>23.00</td>\n",
       "      <td>4</td>\n",
       "      <td>88.944468</td>\n",
       "      <td>57.840143</td>\n",
       "      <td>66.361592</td>\n",
       "      <td>36.110716</td>\n",
       "      <td>1.181795</td>\n",
       "      <td>1.129224</td>\n",
       "      <td>122.90607</td>\n",
       "      <td>...</td>\n",
       "      <td>2.242857</td>\n",
       "      <td>2.213364</td>\n",
       "      <td>2.206963</td>\n",
       "      <td>1.368922</td>\n",
       "      <td>1.096052</td>\n",
       "      <td>1</td>\n",
       "      <td>1.057143</td>\n",
       "      <td>0.433013</td>\n",
       "      <td>0.428809</td>\n",
       "      <td>23.00</td>\n",
       "    </tr>\n",
       "    <tr>\n",
       "      <th>5</th>\n",
       "      <td>Ba0.5La1.5Cu1O4</td>\n",
       "      <td>23.00</td>\n",
       "      <td>4</td>\n",
       "      <td>88.944468</td>\n",
       "      <td>57.795044</td>\n",
       "      <td>66.361592</td>\n",
       "      <td>36.098926</td>\n",
       "      <td>1.181795</td>\n",
       "      <td>1.225203</td>\n",
       "      <td>122.90607</td>\n",
       "      <td>...</td>\n",
       "      <td>2.214286</td>\n",
       "      <td>2.213364</td>\n",
       "      <td>2.181543</td>\n",
       "      <td>1.368922</td>\n",
       "      <td>1.141474</td>\n",
       "      <td>1</td>\n",
       "      <td>1.000000</td>\n",
       "      <td>0.433013</td>\n",
       "      <td>0.410326</td>\n",
       "      <td>23.00</td>\n",
       "    </tr>\n",
       "    <tr>\n",
       "      <th>...</th>\n",
       "      <td>...</td>\n",
       "      <td>...</td>\n",
       "      <td>...</td>\n",
       "      <td>...</td>\n",
       "      <td>...</td>\n",
       "      <td>...</td>\n",
       "      <td>...</td>\n",
       "      <td>...</td>\n",
       "      <td>...</td>\n",
       "      <td>...</td>\n",
       "      <td>...</td>\n",
       "      <td>...</td>\n",
       "      <td>...</td>\n",
       "      <td>...</td>\n",
       "      <td>...</td>\n",
       "      <td>...</td>\n",
       "      <td>...</td>\n",
       "      <td>...</td>\n",
       "      <td>...</td>\n",
       "      <td>...</td>\n",
       "      <td>...</td>\n",
       "    </tr>\n",
       "    <tr>\n",
       "      <th>21258</th>\n",
       "      <td>Tm0.84Lu0.16Fe3Si5</td>\n",
       "      <td>2.44</td>\n",
       "      <td>4</td>\n",
       "      <td>106.957877</td>\n",
       "      <td>53.095769</td>\n",
       "      <td>82.515384</td>\n",
       "      <td>43.135565</td>\n",
       "      <td>1.177145</td>\n",
       "      <td>1.254119</td>\n",
       "      <td>146.88130</td>\n",
       "      <td>...</td>\n",
       "      <td>3.555556</td>\n",
       "      <td>3.223710</td>\n",
       "      <td>3.519911</td>\n",
       "      <td>1.377820</td>\n",
       "      <td>0.913658</td>\n",
       "      <td>1</td>\n",
       "      <td>2.168889</td>\n",
       "      <td>0.433013</td>\n",
       "      <td>0.496904</td>\n",
       "      <td>2.44</td>\n",
       "    </tr>\n",
       "    <tr>\n",
       "      <th>21259</th>\n",
       "      <td>Tl1Ba2Ca3Cu4O11</td>\n",
       "      <td>122.10</td>\n",
       "      <td>5</td>\n",
       "      <td>92.266740</td>\n",
       "      <td>49.021367</td>\n",
       "      <td>64.812662</td>\n",
       "      <td>32.867748</td>\n",
       "      <td>1.323287</td>\n",
       "      <td>1.571630</td>\n",
       "      <td>188.38390</td>\n",
       "      <td>...</td>\n",
       "      <td>2.047619</td>\n",
       "      <td>2.168944</td>\n",
       "      <td>2.038991</td>\n",
       "      <td>1.594167</td>\n",
       "      <td>1.337246</td>\n",
       "      <td>1</td>\n",
       "      <td>0.904762</td>\n",
       "      <td>0.400000</td>\n",
       "      <td>0.212959</td>\n",
       "      <td>122.10</td>\n",
       "    </tr>\n",
       "    <tr>\n",
       "      <th>21260</th>\n",
       "      <td>Nb0.8Pd0.2</td>\n",
       "      <td>1.98</td>\n",
       "      <td>2</td>\n",
       "      <td>99.663190</td>\n",
       "      <td>95.609104</td>\n",
       "      <td>99.433882</td>\n",
       "      <td>95.464320</td>\n",
       "      <td>0.690847</td>\n",
       "      <td>0.530198</td>\n",
       "      <td>13.51362</td>\n",
       "      <td>...</td>\n",
       "      <td>4.800000</td>\n",
       "      <td>4.472136</td>\n",
       "      <td>4.781762</td>\n",
       "      <td>0.686962</td>\n",
       "      <td>0.450561</td>\n",
       "      <td>1</td>\n",
       "      <td>3.200000</td>\n",
       "      <td>0.500000</td>\n",
       "      <td>0.400000</td>\n",
       "      <td>1.98</td>\n",
       "    </tr>\n",
       "    <tr>\n",
       "      <th>21261</th>\n",
       "      <td>Nb0.69Pd0.31</td>\n",
       "      <td>1.84</td>\n",
       "      <td>2</td>\n",
       "      <td>99.663190</td>\n",
       "      <td>97.095602</td>\n",
       "      <td>99.433882</td>\n",
       "      <td>96.901083</td>\n",
       "      <td>0.690847</td>\n",
       "      <td>0.640883</td>\n",
       "      <td>13.51362</td>\n",
       "      <td>...</td>\n",
       "      <td>4.690000</td>\n",
       "      <td>4.472136</td>\n",
       "      <td>4.665819</td>\n",
       "      <td>0.686962</td>\n",
       "      <td>0.577601</td>\n",
       "      <td>1</td>\n",
       "      <td>2.210000</td>\n",
       "      <td>0.500000</td>\n",
       "      <td>0.462493</td>\n",
       "      <td>1.84</td>\n",
       "    </tr>\n",
       "    <tr>\n",
       "      <th>21262</th>\n",
       "      <td>Fe1Se0.2Te0.8</td>\n",
       "      <td>12.80</td>\n",
       "      <td>3</td>\n",
       "      <td>87.468333</td>\n",
       "      <td>86.858500</td>\n",
       "      <td>82.555758</td>\n",
       "      <td>80.458722</td>\n",
       "      <td>1.041270</td>\n",
       "      <td>0.895229</td>\n",
       "      <td>71.75500</td>\n",
       "      <td>...</td>\n",
       "      <td>4.500000</td>\n",
       "      <td>4.762203</td>\n",
       "      <td>4.242641</td>\n",
       "      <td>1.054920</td>\n",
       "      <td>0.970116</td>\n",
       "      <td>3</td>\n",
       "      <td>1.800000</td>\n",
       "      <td>1.414214</td>\n",
       "      <td>1.500000</td>\n",
       "      <td>12.80</td>\n",
       "    </tr>\n",
       "  </tbody>\n",
       "</table>\n",
       "<p>19162 rows × 84 columns</p>\n",
       "</div>"
      ],
      "text/plain": [
       "                     material  critical_temp  number_of_elements  \\\n",
       "0             Ba0.2La1.8Cu1O4          29.00                   4   \n",
       "1      Ba0.1La1.9Ag0.1Cu0.9O4          26.00                   5   \n",
       "2             Ba0.1La1.9Cu1O4          19.00                   4   \n",
       "4             Ba0.3La1.7Cu1O4          23.00                   4   \n",
       "5             Ba0.5La1.5Cu1O4          23.00                   4   \n",
       "...                       ...            ...                 ...   \n",
       "21258      Tm0.84Lu0.16Fe3Si5           2.44                   4   \n",
       "21259         Tl1Ba2Ca3Cu4O11         122.10                   5   \n",
       "21260              Nb0.8Pd0.2           1.98                   2   \n",
       "21261            Nb0.69Pd0.31           1.84                   2   \n",
       "21262           Fe1Se0.2Te0.8          12.80                   3   \n",
       "\n",
       "       mean_atomic_mass  wtd_mean_atomic_mass  gmean_atomic_mass  \\\n",
       "0             88.944468             57.862692          66.361592   \n",
       "1             92.729214             58.518416          73.132787   \n",
       "2             88.944468             57.885242          66.361592   \n",
       "4             88.944468             57.840143          66.361592   \n",
       "5             88.944468             57.795044          66.361592   \n",
       "...                 ...                   ...                ...   \n",
       "21258        106.957877             53.095769          82.515384   \n",
       "21259         92.266740             49.021367          64.812662   \n",
       "21260         99.663190             95.609104          99.433882   \n",
       "21261         99.663190             97.095602          99.433882   \n",
       "21262         87.468333             86.858500          82.555758   \n",
       "\n",
       "       wtd_gmean_atomic_mass  entropy_atomic_mass  wtd_entropy_atomic_mass  \\\n",
       "0                  36.116612             1.181795                 1.062396   \n",
       "1                  36.396602             1.449309                 1.057755   \n",
       "2                  36.122509             1.181795                 0.975980   \n",
       "4                  36.110716             1.181795                 1.129224   \n",
       "5                  36.098926             1.181795                 1.225203   \n",
       "...                      ...                  ...                      ...   \n",
       "21258              43.135565             1.177145                 1.254119   \n",
       "21259              32.867748             1.323287                 1.571630   \n",
       "21260              95.464320             0.690847                 0.530198   \n",
       "21261              96.901083             0.690847                 0.640883   \n",
       "21262              80.458722             1.041270                 0.895229   \n",
       "\n",
       "       range_atomic_mass  ...  wtd_mean_Valence  gmean_Valence  \\\n",
       "0              122.90607  ...          2.257143       2.213364   \n",
       "1              122.90607  ...          2.257143       1.888175   \n",
       "2              122.90607  ...          2.271429       2.213364   \n",
       "4              122.90607  ...          2.242857       2.213364   \n",
       "5              122.90607  ...          2.214286       2.213364   \n",
       "...                  ...  ...               ...            ...   \n",
       "21258          146.88130  ...          3.555556       3.223710   \n",
       "21259          188.38390  ...          2.047619       2.168944   \n",
       "21260           13.51362  ...          4.800000       4.472136   \n",
       "21261           13.51362  ...          4.690000       4.472136   \n",
       "21262           71.75500  ...          4.500000       4.762203   \n",
       "\n",
       "       wtd_gmean_Valence  entropy_Valence  wtd_entropy_Valence  range_Valence  \\\n",
       "0               2.219783         1.368922             1.066221              1   \n",
       "1               2.210679         1.557113             1.047221              2   \n",
       "2               2.232679         1.368922             1.029175              1   \n",
       "4               2.206963         1.368922             1.096052              1   \n",
       "5               2.181543         1.368922             1.141474              1   \n",
       "...                  ...              ...                  ...            ...   \n",
       "21258           3.519911         1.377820             0.913658              1   \n",
       "21259           2.038991         1.594167             1.337246              1   \n",
       "21260           4.781762         0.686962             0.450561              1   \n",
       "21261           4.665819         0.686962             0.577601              1   \n",
       "21262           4.242641         1.054920             0.970116              3   \n",
       "\n",
       "       wtd_range_Valence  std_Valence  wtd_std_Valence  critical_temp.1  \n",
       "0               1.085714     0.433013         0.437059            29.00  \n",
       "1               1.128571     0.632456         0.468606            26.00  \n",
       "2               1.114286     0.433013         0.444697            19.00  \n",
       "4               1.057143     0.433013         0.428809            23.00  \n",
       "5               1.000000     0.433013         0.410326            23.00  \n",
       "...                  ...          ...              ...              ...  \n",
       "21258           2.168889     0.433013         0.496904             2.44  \n",
       "21259           0.904762     0.400000         0.212959           122.10  \n",
       "21260           3.200000     0.500000         0.400000             1.98  \n",
       "21261           2.210000     0.500000         0.462493             1.84  \n",
       "21262           1.800000     1.414214         1.500000            12.80  \n",
       "\n",
       "[19162 rows x 84 columns]"
      ]
     },
     "execution_count": 3,
     "metadata": {},
     "output_type": "execute_result"
    }
   ],
   "source": [
    "#superconductor_data = pd.read_csv(\"superconductor_data.csv\", index_col=0)\n",
    "superconductor_data"
   ]
  },
  {
   "cell_type": "code",
   "execution_count": 4,
   "metadata": {},
   "outputs": [
    {
     "data": {
      "text/plain": [
       "Index(['material', 'critical_temp', 'number_of_elements', 'mean_atomic_mass',\n",
       "       'wtd_mean_atomic_mass', 'gmean_atomic_mass', 'wtd_gmean_atomic_mass',\n",
       "       'entropy_atomic_mass', 'wtd_entropy_atomic_mass', 'range_atomic_mass',\n",
       "       'wtd_range_atomic_mass', 'std_atomic_mass', 'wtd_std_atomic_mass',\n",
       "       'mean_fie', 'wtd_mean_fie', 'gmean_fie', 'wtd_gmean_fie', 'entropy_fie',\n",
       "       'wtd_entropy_fie', 'range_fie', 'wtd_range_fie', 'std_fie',\n",
       "       'wtd_std_fie', 'mean_atomic_radius', 'wtd_mean_atomic_radius',\n",
       "       'gmean_atomic_radius', 'wtd_gmean_atomic_radius',\n",
       "       'entropy_atomic_radius', 'wtd_entropy_atomic_radius',\n",
       "       'range_atomic_radius', 'wtd_range_atomic_radius', 'std_atomic_radius',\n",
       "       'wtd_std_atomic_radius', 'mean_Density', 'wtd_mean_Density',\n",
       "       'gmean_Density', 'wtd_gmean_Density', 'entropy_Density',\n",
       "       'wtd_entropy_Density', 'range_Density', 'wtd_range_Density',\n",
       "       'std_Density', 'wtd_std_Density', 'mean_ElectronAffinity',\n",
       "       'wtd_mean_ElectronAffinity', 'gmean_ElectronAffinity',\n",
       "       'wtd_gmean_ElectronAffinity', 'entropy_ElectronAffinity',\n",
       "       'wtd_entropy_ElectronAffinity', 'range_ElectronAffinity',\n",
       "       'wtd_range_ElectronAffinity', 'std_ElectronAffinity',\n",
       "       'wtd_std_ElectronAffinity', 'mean_FusionHeat', 'wtd_mean_FusionHeat',\n",
       "       'gmean_FusionHeat', 'wtd_gmean_FusionHeat', 'entropy_FusionHeat',\n",
       "       'wtd_entropy_FusionHeat', 'range_FusionHeat', 'wtd_range_FusionHeat',\n",
       "       'std_FusionHeat', 'wtd_std_FusionHeat', 'mean_ThermalConductivity',\n",
       "       'wtd_mean_ThermalConductivity', 'gmean_ThermalConductivity',\n",
       "       'wtd_gmean_ThermalConductivity', 'entropy_ThermalConductivity',\n",
       "       'wtd_entropy_ThermalConductivity', 'range_ThermalConductivity',\n",
       "       'wtd_range_ThermalConductivity', 'std_ThermalConductivity',\n",
       "       'wtd_std_ThermalConductivity', 'mean_Valence', 'wtd_mean_Valence',\n",
       "       'gmean_Valence', 'wtd_gmean_Valence', 'entropy_Valence',\n",
       "       'wtd_entropy_Valence', 'range_Valence', 'wtd_range_Valence',\n",
       "       'std_Valence', 'wtd_std_Valence', 'critical_temp.1'],\n",
       "      dtype='object')"
      ]
     },
     "execution_count": 4,
     "metadata": {},
     "output_type": "execute_result"
    }
   ],
   "source": [
    "superconductor_data.columns #para una mejor visualización de los nombres de las características"
   ]
  },
  {
   "cell_type": "code",
   "execution_count": 5,
   "metadata": {},
   "outputs": [
    {
     "data": {
      "text/plain": [
       "material                0\n",
       "critical_temp           0\n",
       "number_of_elements      0\n",
       "mean_atomic_mass        0\n",
       "wtd_mean_atomic_mass    0\n",
       "                       ..\n",
       "range_Valence           0\n",
       "wtd_range_Valence       0\n",
       "std_Valence             0\n",
       "wtd_std_Valence         0\n",
       "critical_temp.1         0\n",
       "Length: 84, dtype: int64"
      ]
     },
     "execution_count": 5,
     "metadata": {},
     "output_type": "execute_result"
    }
   ],
   "source": [
    "superconductor_data.isnull().sum() #verificamos si alguna de las columnas tiene datos faltante"
   ]
  },
  {
   "cell_type": "code",
   "execution_count": 6,
   "metadata": {},
   "outputs": [
    {
     "data": {
      "text/plain": [
       "0"
      ]
     },
     "execution_count": 6,
     "metadata": {},
     "output_type": "execute_result"
    }
   ],
   "source": [
    "superconductor_data.isnull().sum().sum()"
   ]
  },
  {
   "cell_type": "markdown",
   "metadata": {},
   "source": [
    "Podemos asumir que se ha hecho una buena limpieza de los datos, limpieza que se ha mencionado en parte en el artículo relacionado. Ahora preparamos el conjunto de datos para aplicar los diferentes modelos de regresión lineal. Siendo la variable objetivo **critical_temp** y los predictores, en principio, las demás variables. \n",
    "\n",
    "Primero eliminemos las columnas que no son de interés, como el nombre del material y la columna duplicada de la temperatura crítica."
   ]
  },
  {
   "cell_type": "code",
   "execution_count": 7,
   "metadata": {},
   "outputs": [
    {
     "data": {
      "text/html": [
       "<div>\n",
       "<style scoped>\n",
       "    .dataframe tbody tr th:only-of-type {\n",
       "        vertical-align: middle;\n",
       "    }\n",
       "\n",
       "    .dataframe tbody tr th {\n",
       "        vertical-align: top;\n",
       "    }\n",
       "\n",
       "    .dataframe thead th {\n",
       "        text-align: right;\n",
       "    }\n",
       "</style>\n",
       "<table border=\"1\" class=\"dataframe\">\n",
       "  <thead>\n",
       "    <tr style=\"text-align: right;\">\n",
       "      <th></th>\n",
       "      <th>number_of_elements</th>\n",
       "      <th>mean_atomic_mass</th>\n",
       "      <th>wtd_mean_atomic_mass</th>\n",
       "      <th>gmean_atomic_mass</th>\n",
       "      <th>wtd_gmean_atomic_mass</th>\n",
       "      <th>entropy_atomic_mass</th>\n",
       "      <th>wtd_entropy_atomic_mass</th>\n",
       "      <th>range_atomic_mass</th>\n",
       "      <th>wtd_range_atomic_mass</th>\n",
       "      <th>std_atomic_mass</th>\n",
       "      <th>...</th>\n",
       "      <th>mean_Valence</th>\n",
       "      <th>wtd_mean_Valence</th>\n",
       "      <th>gmean_Valence</th>\n",
       "      <th>wtd_gmean_Valence</th>\n",
       "      <th>entropy_Valence</th>\n",
       "      <th>wtd_entropy_Valence</th>\n",
       "      <th>range_Valence</th>\n",
       "      <th>wtd_range_Valence</th>\n",
       "      <th>std_Valence</th>\n",
       "      <th>wtd_std_Valence</th>\n",
       "    </tr>\n",
       "  </thead>\n",
       "  <tbody>\n",
       "    <tr>\n",
       "      <th>0</th>\n",
       "      <td>4</td>\n",
       "      <td>88.944468</td>\n",
       "      <td>57.862692</td>\n",
       "      <td>66.361592</td>\n",
       "      <td>36.116612</td>\n",
       "      <td>1.181795</td>\n",
       "      <td>1.062396</td>\n",
       "      <td>122.90607</td>\n",
       "      <td>31.794921</td>\n",
       "      <td>51.968828</td>\n",
       "      <td>...</td>\n",
       "      <td>2.25</td>\n",
       "      <td>2.257143</td>\n",
       "      <td>2.213364</td>\n",
       "      <td>2.219783</td>\n",
       "      <td>1.368922</td>\n",
       "      <td>1.066221</td>\n",
       "      <td>1</td>\n",
       "      <td>1.085714</td>\n",
       "      <td>0.433013</td>\n",
       "      <td>0.437059</td>\n",
       "    </tr>\n",
       "    <tr>\n",
       "      <th>1</th>\n",
       "      <td>5</td>\n",
       "      <td>92.729214</td>\n",
       "      <td>58.518416</td>\n",
       "      <td>73.132787</td>\n",
       "      <td>36.396602</td>\n",
       "      <td>1.449309</td>\n",
       "      <td>1.057755</td>\n",
       "      <td>122.90607</td>\n",
       "      <td>36.161939</td>\n",
       "      <td>47.094633</td>\n",
       "      <td>...</td>\n",
       "      <td>2.00</td>\n",
       "      <td>2.257143</td>\n",
       "      <td>1.888175</td>\n",
       "      <td>2.210679</td>\n",
       "      <td>1.557113</td>\n",
       "      <td>1.047221</td>\n",
       "      <td>2</td>\n",
       "      <td>1.128571</td>\n",
       "      <td>0.632456</td>\n",
       "      <td>0.468606</td>\n",
       "    </tr>\n",
       "    <tr>\n",
       "      <th>2</th>\n",
       "      <td>4</td>\n",
       "      <td>88.944468</td>\n",
       "      <td>57.885242</td>\n",
       "      <td>66.361592</td>\n",
       "      <td>36.122509</td>\n",
       "      <td>1.181795</td>\n",
       "      <td>0.975980</td>\n",
       "      <td>122.90607</td>\n",
       "      <td>35.741099</td>\n",
       "      <td>51.968828</td>\n",
       "      <td>...</td>\n",
       "      <td>2.25</td>\n",
       "      <td>2.271429</td>\n",
       "      <td>2.213364</td>\n",
       "      <td>2.232679</td>\n",
       "      <td>1.368922</td>\n",
       "      <td>1.029175</td>\n",
       "      <td>1</td>\n",
       "      <td>1.114286</td>\n",
       "      <td>0.433013</td>\n",
       "      <td>0.444697</td>\n",
       "    </tr>\n",
       "    <tr>\n",
       "      <th>4</th>\n",
       "      <td>4</td>\n",
       "      <td>88.944468</td>\n",
       "      <td>57.840143</td>\n",
       "      <td>66.361592</td>\n",
       "      <td>36.110716</td>\n",
       "      <td>1.181795</td>\n",
       "      <td>1.129224</td>\n",
       "      <td>122.90607</td>\n",
       "      <td>27.848743</td>\n",
       "      <td>51.968828</td>\n",
       "      <td>...</td>\n",
       "      <td>2.25</td>\n",
       "      <td>2.242857</td>\n",
       "      <td>2.213364</td>\n",
       "      <td>2.206963</td>\n",
       "      <td>1.368922</td>\n",
       "      <td>1.096052</td>\n",
       "      <td>1</td>\n",
       "      <td>1.057143</td>\n",
       "      <td>0.433013</td>\n",
       "      <td>0.428809</td>\n",
       "    </tr>\n",
       "    <tr>\n",
       "      <th>5</th>\n",
       "      <td>4</td>\n",
       "      <td>88.944468</td>\n",
       "      <td>57.795044</td>\n",
       "      <td>66.361592</td>\n",
       "      <td>36.098926</td>\n",
       "      <td>1.181795</td>\n",
       "      <td>1.225203</td>\n",
       "      <td>122.90607</td>\n",
       "      <td>20.687458</td>\n",
       "      <td>51.968828</td>\n",
       "      <td>...</td>\n",
       "      <td>2.25</td>\n",
       "      <td>2.214286</td>\n",
       "      <td>2.213364</td>\n",
       "      <td>2.181543</td>\n",
       "      <td>1.368922</td>\n",
       "      <td>1.141474</td>\n",
       "      <td>1</td>\n",
       "      <td>1.000000</td>\n",
       "      <td>0.433013</td>\n",
       "      <td>0.410326</td>\n",
       "    </tr>\n",
       "  </tbody>\n",
       "</table>\n",
       "<p>5 rows × 81 columns</p>\n",
       "</div>"
      ],
      "text/plain": [
       "   number_of_elements  mean_atomic_mass  wtd_mean_atomic_mass  \\\n",
       "0                   4         88.944468             57.862692   \n",
       "1                   5         92.729214             58.518416   \n",
       "2                   4         88.944468             57.885242   \n",
       "4                   4         88.944468             57.840143   \n",
       "5                   4         88.944468             57.795044   \n",
       "\n",
       "   gmean_atomic_mass  wtd_gmean_atomic_mass  entropy_atomic_mass  \\\n",
       "0          66.361592              36.116612             1.181795   \n",
       "1          73.132787              36.396602             1.449309   \n",
       "2          66.361592              36.122509             1.181795   \n",
       "4          66.361592              36.110716             1.181795   \n",
       "5          66.361592              36.098926             1.181795   \n",
       "\n",
       "   wtd_entropy_atomic_mass  range_atomic_mass  wtd_range_atomic_mass  \\\n",
       "0                 1.062396          122.90607              31.794921   \n",
       "1                 1.057755          122.90607              36.161939   \n",
       "2                 0.975980          122.90607              35.741099   \n",
       "4                 1.129224          122.90607              27.848743   \n",
       "5                 1.225203          122.90607              20.687458   \n",
       "\n",
       "   std_atomic_mass  ...  mean_Valence  wtd_mean_Valence  gmean_Valence  \\\n",
       "0        51.968828  ...          2.25          2.257143       2.213364   \n",
       "1        47.094633  ...          2.00          2.257143       1.888175   \n",
       "2        51.968828  ...          2.25          2.271429       2.213364   \n",
       "4        51.968828  ...          2.25          2.242857       2.213364   \n",
       "5        51.968828  ...          2.25          2.214286       2.213364   \n",
       "\n",
       "   wtd_gmean_Valence  entropy_Valence  wtd_entropy_Valence  range_Valence  \\\n",
       "0           2.219783         1.368922             1.066221              1   \n",
       "1           2.210679         1.557113             1.047221              2   \n",
       "2           2.232679         1.368922             1.029175              1   \n",
       "4           2.206963         1.368922             1.096052              1   \n",
       "5           2.181543         1.368922             1.141474              1   \n",
       "\n",
       "   wtd_range_Valence  std_Valence  wtd_std_Valence  \n",
       "0           1.085714     0.433013         0.437059  \n",
       "1           1.128571     0.632456         0.468606  \n",
       "2           1.114286     0.433013         0.444697  \n",
       "4           1.057143     0.433013         0.428809  \n",
       "5           1.000000     0.433013         0.410326  \n",
       "\n",
       "[5 rows x 81 columns]"
      ]
     },
     "execution_count": 7,
     "metadata": {},
     "output_type": "execute_result"
    }
   ],
   "source": [
    "X = superconductor_data.select_dtypes(exclude=\"object\").drop(columns=[\"critical_temp\",\"critical_temp.1\"])\n",
    "y = superconductor_data[\"critical_temp\"] #variable objetivo\n",
    "X.head()"
   ]
  },
  {
   "cell_type": "markdown",
   "metadata": {},
   "source": [
    "Calculemos el valor r2 con algunos modelos de regresión lineal: Regresión lineal simple, Ridge, Lasso y redes elásticas.\n"
   ]
  },
  {
   "cell_type": "code",
   "execution_count": 8,
   "metadata": {},
   "outputs": [],
   "source": [
    "X_train, X_test, y_train, y_test = train_test_split(X, y, test_size=0.3, random_state=10) #partimos el conjunto\n",
    "\n",
    "scale = StandardScaler() #escalamos los datos para los modelos de regularizacion\n",
    "X_train = scale.fit_transform(X_train)\n",
    "X_test = scale.fit_transform(X_test)"
   ]
  },
  {
   "cell_type": "markdown",
   "metadata": {},
   "source": [
    "## Regresión lineal"
   ]
  },
  {
   "cell_type": "code",
   "execution_count": 9,
   "metadata": {},
   "outputs": [],
   "source": [
    "linear_model = LinearRegression().fit(X_train, y_train) #definimos el modelo"
   ]
  },
  {
   "cell_type": "code",
   "execution_count": 10,
   "metadata": {},
   "outputs": [
    {
     "data": {
      "text/plain": [
       "(34.43233221464255,\n",
       " array([ -4.30135535,  25.96370182, -33.16811545, -16.19926524,\n",
       "         26.3085288 , -13.63441562,   3.13646153,  13.78528929,\n",
       "          1.17287971, -13.2374436 ,   2.30728117,  11.21162519,\n",
       "        -22.40276363, -10.23144814,  21.84204111, -41.25086978,\n",
       "         15.6111649 ,  21.78813226,   4.63133806, -21.17907888,\n",
       "         -3.75251824,  -6.71711617,  86.69150576,  -0.57117359,\n",
       "        -92.83148063,  30.46727686,  17.20991747,  12.86068574,\n",
       "         -3.11199148, -10.23535887,  -5.54058715, -13.68465739,\n",
       "         -0.62378131,   4.41634328,   9.55149952,   6.1212818 ,\n",
       "         -6.49092519,  -5.7656417 ,  -0.37153274,   9.32585526,\n",
       "         -1.92038157,  -3.58444942,  18.42560567,   5.75759515,\n",
       "        -19.99482714,   0.81106071,  -5.76931884, -20.53274307,\n",
       "         -3.70903503,  26.62924998, -12.33375618,  21.64345692,\n",
       "        -30.42454599, -17.38155086,  24.21695812,  -7.22103386,\n",
       "          9.25652673,  -7.92728157,   6.54406644,  -6.18753921,\n",
       "          7.29541833,  -0.93554153,  21.23436779,  -3.00631365,\n",
       "        -11.36221312,   2.9796919 ,   0.2003383 , -15.63810078,\n",
       "         -8.9878797 ,  16.14060413,   1.1496568 , -20.4635135 ,\n",
       "         30.29002474,  24.81645475, -34.4378913 ,  24.52559187,\n",
       "        -27.2829878 ,   4.88612289,  -0.92502053,   4.38437635,\n",
       "        -11.66286122]))"
      ]
     },
     "execution_count": 10,
     "metadata": {},
     "output_type": "execute_result"
    }
   ],
   "source": [
    "linear_model.intercept_, linear_model.coef_ #parámetros del modelo"
   ]
  },
  {
   "cell_type": "markdown",
   "metadata": {},
   "source": [
    "Calculamos el valor r2"
   ]
  },
  {
   "cell_type": "code",
   "execution_count": 11,
   "metadata": {},
   "outputs": [
    {
     "data": {
      "text/plain": [
       "0.7315727832711771"
      ]
     },
     "execution_count": 11,
     "metadata": {},
     "output_type": "execute_result"
    }
   ],
   "source": [
    "linear_model_r2 = linear_model.score(X_test, y_test)\n",
    "linear_model_r2"
   ]
  },
  {
   "cell_type": "markdown",
   "metadata": {},
   "source": [
    "## Regresión Ridge"
   ]
  },
  {
   "cell_type": "code",
   "execution_count": 12,
   "metadata": {},
   "outputs": [],
   "source": [
    "ridge_model = Ridge().fit(X_train, y_train) #definimos el modelo"
   ]
  },
  {
   "cell_type": "code",
   "execution_count": 13,
   "metadata": {},
   "outputs": [
    {
     "data": {
      "text/plain": [
       "(34.43233221464253,\n",
       " array([-4.38709296e+00,  2.11205597e+01, -2.52728347e+01, -1.15284347e+01,\n",
       "         1.83036449e+01, -1.35458186e+01,  3.57704126e+00,  1.36668763e+01,\n",
       "         1.00107968e+00, -1.13263094e+01,  5.73533011e-03,  2.93802973e+00,\n",
       "         6.63288876e-01, -3.07836739e+00,  2.75677138e+00, -2.04033349e+01,\n",
       "         1.50779713e+01,  2.11128221e+01,  4.16953612e+00, -1.82183440e+01,\n",
       "        -6.02674578e+00,  5.38961811e+00,  5.50910784e+01, -1.32772834e+01,\n",
       "        -5.41013353e+01,  1.33839162e+01,  1.56125513e+01,  1.43518165e+01,\n",
       "        -3.04715349e+00, -1.74567185e+01,  2.51768041e+00, -1.30543157e+01,\n",
       "        -1.18590274e+00,  3.76538624e+00,  9.77224846e+00,  6.40800335e+00,\n",
       "        -6.09404593e+00, -5.57897450e+00, -2.22222353e-01,  8.72559102e+00,\n",
       "        -1.42747402e+00, -4.12051840e+00,  1.99868730e+01,  6.14702762e+00,\n",
       "        -2.11959353e+01,  4.85764451e-01, -5.59207185e+00, -2.08242568e+01,\n",
       "        -4.02980695e+00,  2.69612507e+01, -1.26117829e+01,  1.72676094e+01,\n",
       "        -2.48123871e+01, -1.36975229e+01,  1.93571442e+01, -6.50172928e+00,\n",
       "         8.89102754e+00, -8.32144487e+00,  5.95548680e+00, -3.41344596e+00,\n",
       "         5.43980267e+00, -9.31715619e-01,  2.10534153e+01, -2.92811558e+00,\n",
       "        -1.12854428e+01,  2.73019400e+00,  3.47302949e-01, -1.54027136e+01,\n",
       "        -8.68611813e+00,  1.53408737e+01,  1.66039699e+00, -9.79516841e+00,\n",
       "         1.32074754e+01,  1.44811470e+01, -1.80554765e+01,  2.04877241e+01,\n",
       "        -2.62978894e+01,  5.01417254e+00, -2.61030513e-01,  2.50349640e+00,\n",
       "        -1.00913228e+01]))"
      ]
     },
     "execution_count": 13,
     "metadata": {},
     "output_type": "execute_result"
    }
   ],
   "source": [
    "ridge_model.intercept_, ridge_model.coef_ #parámetros del modelo"
   ]
  },
  {
   "cell_type": "code",
   "execution_count": 14,
   "metadata": {},
   "outputs": [
    {
     "data": {
      "text/plain": [
       "0.7311279754494604"
      ]
     },
     "execution_count": 14,
     "metadata": {},
     "output_type": "execute_result"
    }
   ],
   "source": [
    "ridge_model_r2 = ridge_model.score(X_test, y_test)\n",
    "ridge_model_r2"
   ]
  },
  {
   "cell_type": "markdown",
   "metadata": {},
   "source": [
    "Variando el hiperparámetro $\\alpha$ para Ridge:"
   ]
  },
  {
   "cell_type": "code",
   "execution_count": 15,
   "metadata": {},
   "outputs": [
    {
     "name": "stdout",
     "output_type": "stream",
     "text": [
      "Alpha: 0.0 r2: 0.7315727832711805 \n",
      "Alpha: 0.5 r2: 0.731324746559865 \n",
      "Alpha: 1.0 r2: 0.7311279754494604 \n",
      "Alpha: 1.5 r2: 0.730971373711143 \n",
      "Alpha: 2.0 r2: 0.7308383191469092 \n",
      "Alpha: 2.5 r2: 0.7307193321088021 \n",
      "Alpha: 3.0 r2: 0.7306089882658044 \n",
      "Alpha: 3.5 r2: 0.7305040718537428 \n",
      "Alpha: 4.0 r2: 0.7304026151212974 \n",
      "Alpha: 4.5 r2: 0.730303383771375 \n",
      "Alpha: 5.0 r2: 0.730205589417088 \n",
      "Alpha: 5.5 r2: 0.7301087225502024 \n",
      "Alpha: 6.0 r2: 0.7300124522084397 \n",
      "Alpha: 6.5 r2: 0.7299165639496936 \n",
      "Alpha: 7.0 r2: 0.7298209205479174 \n",
      "Alpha: 7.5 r2: 0.7297254365507091 \n",
      "Alpha: 8.0 r2: 0.7296300615045057 \n",
      "Alpha: 8.5 r2: 0.7295347687185512 \n",
      "Alpha: 9.0 r2: 0.7294395476369497 \n",
      "Alpha: 9.5 r2: 0.7293443986016205 \n",
      "Alpha: 10.0 r2: 0.7292493292236752 \n",
      "Alpha: 10.5 r2: 0.7291543518515964 \n",
      "Alpha: 11.0 r2: 0.72905948179618 \n",
      "Alpha: 11.5 r2: 0.7289647360831655 \n",
      "Alpha: 12.0 r2: 0.7288701325771412 \n",
      "Alpha: 12.5 r2: 0.7287756893686974 \n",
      "Alpha: 13.0 r2: 0.7286814243493964 \n",
      "Alpha: 13.5 r2: 0.7285873549214414 \n",
      "Alpha: 14.0 r2: 0.7284934978042563 \n",
      "Alpha: 14.5 r2: 0.728399868910889 \n",
      "Alpha: 15.0 r2: 0.7283064832747743 \n",
      "Alpha: 15.5 r2: 0.728213355012646 \n",
      "Alpha: 16.0 r2: 0.7281204973133424 \n",
      "Alpha: 16.5 r2: 0.7280279224448976 \n",
      "Alpha: 17.0 r2: 0.7279356417744447 \n",
      "Alpha: 17.5 r2: 0.7278436657968035 \n",
      "Alpha: 18.0 r2: 0.7277520041688121 \n",
      "Alpha: 18.5 r2: 0.7276606657471754 \n",
      "Alpha: 19.0 r2: 0.7275696586282381 \n",
      "Alpha: 19.5 r2: 0.7274789901885161 \n",
      "Alpha: 20.0 r2: 0.7273886671251377 \n",
      "Alpha: 20.5 r2: 0.727298695495605 \n",
      "Alpha: 21.0 r2: 0.7272090807564415 \n",
      "Alpha: 21.5 r2: 0.7271198278004697 \n",
      "Alpha: 22.0 r2: 0.7270309409925113 \n",
      "Alpha: 22.5 r2: 0.726942424203431 \n",
      "Alpha: 23.0 r2: 0.7268542808424414 \n",
      "Alpha: 23.5 r2: 0.7267665138876913 \n",
      "Alpha: 24.0 r2: 0.7266791259151284 \n",
      "Alpha: 24.5 r2: 0.7265921191256994 \n",
      "Alpha: 25.0 r2: 0.7265054953709256 \n",
      "Alpha: 25.5 r2: 0.7264192561769167 \n",
      "Alpha: 26.0 r2: 0.7263334027669154 \n",
      "Alpha: 26.5 r2: 0.7262479360824009 \n",
      "Alpha: 27.0 r2: 0.7261628568028853 \n",
      "Alpha: 27.5 r2: 0.7260781653644164 \n",
      "Alpha: 28.0 r2: 0.725993861976906 \n",
      "Alpha: 28.5 r2: 0.7259099466403256 \n",
      "Alpha: 29.0 r2: 0.7258264191598496 \n",
      "Alpha: 29.5 r2: 0.7257432791600147 \n",
      "Alpha: 30.0 r2: 0.7256605260979421 \n",
      "Alpha: 30.5 r2: 0.7255781592757018 \n",
      "Alpha: 31.0 r2: 0.7254961778518583 \n",
      "Alpha: 31.5 r2: 0.7254145808522545 \n",
      "Alpha: 32.0 r2: 0.725333367180094 \n",
      "Alpha: 32.5 r2: 0.7252525356253485 \n",
      "Alpha: 33.0 r2: 0.725172084873553 \n",
      "Alpha: 33.5 r2: 0.7250920135140133 \n",
      "Alpha: 34.0 r2: 0.7250123200474841 \n",
      "Alpha: 34.5 r2: 0.7249330028933265 \n",
      "Alpha: 35.0 r2: 0.7248540603962071 \n",
      "Alpha: 35.5 r2: 0.7247754908323438 \n",
      "Alpha: 36.0 r2: 0.7246972924153494 \n",
      "Alpha: 36.5 r2: 0.7246194633016817 \n",
      "Alpha: 37.0 r2: 0.7245420015957418 \n",
      "Alpha: 37.5 r2: 0.7244649053546276 \n",
      "Alpha: 38.0 r2: 0.7243881725925856 \n",
      "Alpha: 38.5 r2: 0.7243118012851553 \n",
      "Alpha: 39.0 r2: 0.7242357893730498 \n",
      "Alpha: 39.5 r2: 0.7241601347657742 \n",
      "Alpha: 40.0 r2: 0.7240848353450076 \n",
      "Alpha: 40.5 r2: 0.7240098889677586 \n",
      "Alpha: 41.0 r2: 0.7239352934693144 \n",
      "Alpha: 41.5 r2: 0.7238610466659909 \n",
      "Alpha: 42.0 r2: 0.7237871463576974 \n",
      "Alpha: 42.5 r2: 0.723713590330337 \n",
      "Alpha: 43.0 r2: 0.7236403763580412 \n",
      "Alpha: 43.5 r2: 0.7235675022052517 \n",
      "Alpha: 44.0 r2: 0.7234949656286696 \n",
      "Alpha: 44.5 r2: 0.7234227643790616 \n",
      "Alpha: 45.0 r2: 0.7233508962029584 \n",
      "Alpha: 45.5 r2: 0.7232793588442197 \n",
      "Alpha: 46.0 r2: 0.7232081500455041 \n",
      "Alpha: 46.5 r2: 0.7231372675496328 \n",
      "Alpha: 47.0 r2: 0.7230667091008611 \n",
      "Alpha: 47.5 r2: 0.7229964724460515 \n",
      "Alpha: 48.0 r2: 0.7229265553357789 \n",
      "Alpha: 48.5 r2: 0.722856955525345 \n",
      "Alpha: 49.0 r2: 0.722787670775723 \n",
      "Alpha: 49.5 r2: 0.7227186988544403 \n",
      "Alpha: 50.0 r2: 0.7226500375363807 \n",
      "Alpha: 50.5 r2: 0.722581684604547 \n",
      "Alpha: 51.0 r2: 0.7225136378507483 \n",
      "Alpha: 51.5 r2: 0.7224458950762499 \n",
      "Alpha: 52.0 r2: 0.7223784540923605 \n",
      "Alpha: 52.5 r2: 0.7223113127209779 \n",
      "Alpha: 53.0 r2: 0.722244468795096 \n",
      "Alpha: 53.5 r2: 0.7221779201592649 \n",
      "Alpha: 54.0 r2: 0.7221116646700093 \n",
      "Alpha: 54.5 r2: 0.7220457001962202 \n",
      "Alpha: 55.0 r2: 0.7219800246195058 \n",
      "Alpha: 55.5 r2: 0.7219146358345145 \n",
      "Alpha: 56.0 r2: 0.7218495317492234 \n",
      "Alpha: 56.5 r2: 0.721784710285206 \n",
      "Alpha: 57.0 r2: 0.721720169377865 \n",
      "Alpha: 57.5 r2: 0.7216559069766517 \n",
      "Alpha: 58.0 r2: 0.7215919210452502 \n",
      "Alpha: 58.5 r2: 0.721528209561749 \n",
      "Alpha: 59.0 r2: 0.7214647705187909 \n",
      "Alpha: 59.5 r2: 0.7214016019236988 \n",
      "Alpha: 60.0 r2: 0.7213387017985913 \n",
      "Alpha: 60.5 r2: 0.7212760681804771 \n",
      "Alpha: 61.0 r2: 0.7212136991213338 \n",
      "Alpha: 61.5 r2: 0.7211515926881761 \n",
      "Alpha: 62.0 r2: 0.7210897469631057 \n",
      "Alpha: 62.5 r2: 0.7210281600433501 \n",
      "Alpha: 63.0 r2: 0.7209668300412932 \n",
      "Alpha: 63.5 r2: 0.72090575508449 \n",
      "Alpha: 64.0 r2: 0.7208449333156701 \n",
      "Alpha: 64.5 r2: 0.7207843628927402 \n",
      "Alpha: 65.0 r2: 0.7207240419887662 \n",
      "Alpha: 65.5 r2: 0.7206639687919543 \n",
      "Alpha: 66.0 r2: 0.7206041415056244 \n",
      "Alpha: 66.5 r2: 0.7205445583481701 \n",
      "Alpha: 67.0 r2: 0.7204852175530185 \n",
      "Alpha: 67.5 r2: 0.7204261173685813 \n",
      "Alpha: 68.0 r2: 0.7203672560582008 \n",
      "Alpha: 68.5 r2: 0.7203086319000858 \n",
      "Alpha: 69.0 r2: 0.7202502431872514 \n",
      "Alpha: 69.5 r2: 0.7201920882274445 \n",
      "Alpha: 70.0 r2: 0.7201341653430751 \n",
      "Alpha: 70.5 r2: 0.7200764728711311 \n",
      "Alpha: 71.0 r2: 0.7200190091631026 \n",
      "Alpha: 71.5 r2: 0.7199617725848946 \n",
      "Alpha: 72.0 r2: 0.7199047615167387 \n",
      "Alpha: 72.5 r2: 0.7198479743531021 \n",
      "Alpha: 73.0 r2: 0.7197914095025919 \n",
      "Alpha: 73.5 r2: 0.7197350653878647 \n",
      "Alpha: 74.0 r2: 0.7196789404455225 \n",
      "Alpha: 74.5 r2: 0.7196230331260169 \n",
      "Alpha: 75.0 r2: 0.719567341893545 \n",
      "Alpha: 75.5 r2: 0.719511865225946 \n",
      "Alpha: 76.0 r2: 0.7194566016145996 \n",
      "Alpha: 76.5 r2: 0.7194015495643145 \n",
      "Alpha: 77.0 r2: 0.7193467075932274 \n",
      "Alpha: 77.5 r2: 0.7192920742326914 \n",
      "Alpha: 78.0 r2: 0.7192376480271667 \n",
      "Alpha: 78.5 r2: 0.7191834275341144 \n",
      "Alpha: 79.0 r2: 0.7191294113238837 \n",
      "Alpha: 79.5 r2: 0.7190755979796019 \n",
      "Alpha: 80.0 r2: 0.7190219860970637 \n",
      "Alpha: 80.5 r2: 0.7189685742846214 \n",
      "Alpha: 81.0 r2: 0.7189153611630702 \n",
      "Alpha: 81.5 r2: 0.7188623453655392 \n",
      "Alpha: 82.0 r2: 0.7188095255373811 \n",
      "Alpha: 82.5 r2: 0.7187569003360561 \n",
      "Alpha: 83.0 r2: 0.7187044684310262 \n",
      "Alpha: 83.5 r2: 0.7186522285036401 \n",
      "Alpha: 84.0 r2: 0.7186001792470234 \n",
      "Alpha: 84.5 r2: 0.7185483193659687 \n",
      "Alpha: 85.0 r2: 0.7184966475768237 \n",
      "Alpha: 85.5 r2: 0.7184451626073844 \n",
      "Alpha: 86.0 r2: 0.7183938631967801 \n",
      "Alpha: 86.5 r2: 0.718342748095371 \n",
      "Alpha: 87.0 r2: 0.7182918160646353 \n",
      "Alpha: 87.5 r2: 0.718241065877062 \n",
      "Alpha: 88.0 r2: 0.7181904963160453 \n",
      "Alpha: 88.5 r2: 0.7181401061757758 \n",
      "Alpha: 89.0 r2: 0.7180898942611356 \n",
      "Alpha: 89.5 r2: 0.7180398593875925 \n",
      "Alpha: 90.0 r2: 0.7179900003810953 \n",
      "Alpha: 90.5 r2: 0.7179403160779709 \n",
      "Alpha: 91.0 r2: 0.7178908053248183 \n",
      "Alpha: 91.5 r2: 0.7178414669784091 \n",
      "Alpha: 92.0 r2: 0.7177922999055832 \n",
      "Alpha: 92.5 r2: 0.7177433029831496 \n",
      "Alpha: 93.0 r2: 0.7176944750977867 \n",
      "Alpha: 93.5 r2: 0.7176458151459406 \n",
      "Alpha: 94.0 r2: 0.717597322033728 \n",
      "Alpha: 94.5 r2: 0.7175489946768392 \n",
      "Alpha: 95.0 r2: 0.7175008320004397 \n",
      "Alpha: 95.5 r2: 0.7174528329390729 \n",
      "Alpha: 96.0 r2: 0.7174049964365714 \n",
      "Alpha: 96.5 r2: 0.7173573214459539 \n",
      "Alpha: 97.0 r2: 0.7173098069293382 \n",
      "Alpha: 97.5 r2: 0.7172624518578443 \n",
      "Alpha: 98.0 r2: 0.7172152552115074 \n",
      "Alpha: 98.5 r2: 0.7171682159791812 \n",
      "Alpha: 99.0 r2: 0.7171213331584525 \n",
      "Alpha: 99.5 r2: 0.7170746057555527 \n",
      "Alpha: 100.0 r2: 0.7170280327852621 \n"
     ]
    }
   ],
   "source": [
    "for alfa in np.linspace(0,100,201):\n",
    "    ridge_model = Ridge(alpha=alfa).fit(X_train, y_train)\n",
    "    ridge_model_r2 = ridge_model.score(X_test, y_test)\n",
    "    print(f\"Alpha: {alfa} r2: {ridge_model_r2} \")\n"
   ]
  },
  {
   "cell_type": "markdown",
   "metadata": {},
   "source": [
    "Es de notar que el mejor valor r2 ocurre cuando $\\alpha=0$, lo que implica que no se penalizan las características"
   ]
  },
  {
   "cell_type": "markdown",
   "metadata": {},
   "source": [
    "## Regresión LASSO"
   ]
  },
  {
   "cell_type": "code",
   "execution_count": 16,
   "metadata": {},
   "outputs": [],
   "source": [
    "lasso_model = Lasso().fit(X_train,y_train) #definimos el modelo"
   ]
  },
  {
   "cell_type": "code",
   "execution_count": 17,
   "metadata": {},
   "outputs": [
    {
     "data": {
      "text/plain": [
       "(34.432332214642514,\n",
       " array([ 0.        , -0.        , -0.        , -0.        ,  0.        ,\n",
       "         0.        ,  6.04381769,  3.56711234, -0.        ,  0.        ,\n",
       "        -0.        ,  0.72489017,  0.        ,  0.        ,  0.        ,\n",
       "         0.        ,  0.        ,  0.        , -0.        ,  0.        ,\n",
       "         0.        , -0.        ,  0.        , -0.        ,  0.        ,\n",
       "         0.        ,  0.        ,  5.6183568 , -0.        ,  0.        ,\n",
       "         0.        , -1.04053398, -0.        , -0.        , -0.        ,\n",
       "        -0.        , -0.        , -0.        , -0.        , -0.        ,\n",
       "        -0.        , -0.        ,  0.        , -0.28195041, -4.73139225,\n",
       "        -0.        , -1.77295592,  0.        , -0.        ,  0.1189115 ,\n",
       "         0.        , -0.        , -0.        , -0.        , -0.        ,\n",
       "         0.        ,  0.        , -0.        , -0.        , -0.        ,\n",
       "        -2.09202746,  0.        ,  7.17505805, -0.        , -4.55654219,\n",
       "         0.        ,  0.        ,  0.        ,  0.        ,  0.        ,\n",
       "         6.52441244, -0.        , -0.        , -0.        , -0.        ,\n",
       "         0.        ,  0.        , -0.        ,  0.        , -0.        ,\n",
       "        -4.70854788]))"
      ]
     },
     "execution_count": 17,
     "metadata": {},
     "output_type": "execute_result"
    }
   ],
   "source": [
    "lasso_model.intercept_, lasso_model.coef_ #parámetros del modelo"
   ]
  },
  {
   "cell_type": "code",
   "execution_count": 18,
   "metadata": {},
   "outputs": [
    {
     "data": {
      "text/plain": [
       "0.6412812178842626"
      ]
     },
     "execution_count": 18,
     "metadata": {},
     "output_type": "execute_result"
    }
   ],
   "source": [
    "lasso_model_r2 = lasso_model.score(X_test, y_test)\n",
    "lasso_model_r2"
   ]
  },
  {
   "cell_type": "code",
   "execution_count": 19,
   "metadata": {},
   "outputs": [
    {
     "name": "stdout",
     "output_type": "stream",
     "text": [
      "Alpha: 1.0 r2: 0.6412812178842626 \n",
      "Alpha: 1.45 r2: 0.619548755634776 \n",
      "Alpha: 1.9 r2: 0.6104847491462297 \n",
      "Alpha: 2.35 r2: 0.6016053204799747 \n",
      "Alpha: 2.8 r2: 0.591114015411282 \n",
      "Alpha: 3.25 r2: 0.5808510615974185 \n",
      "Alpha: 3.7 r2: 0.5705027547797799 \n",
      "Alpha: 4.15 r2: 0.5616325856290686 \n",
      "Alpha: 4.6 r2: 0.5532227522874269 \n",
      "Alpha: 5.05 r2: 0.5456596696680572 \n",
      "Alpha: 5.5 r2: 0.5392084936471603 \n",
      "Alpha: 5.95 r2: 0.5321553883923129 \n",
      "Alpha: 6.4 r2: 0.5245004678004273 \n",
      "Alpha: 6.8500000000000005 r2: 0.5162441703607232 \n",
      "Alpha: 7.3 r2: 0.5073861397497282 \n",
      "Alpha: 7.75 r2: 0.49798799175192077 \n",
      "Alpha: 8.2 r2: 0.49040042165240005 \n",
      "Alpha: 8.65 r2: 0.48237175828370227 \n",
      "Alpha: 9.1 r2: 0.4738999860459341 \n",
      "Alpha: 9.55 r2: 0.4649868582952559 \n",
      "Alpha: 10.0 r2: 0.45563208651475817 \n"
     ]
    }
   ],
   "source": [
    "for alfa in np.linspace(1.0,10,21):\n",
    "    lasso_model = Lasso(alpha=alfa).fit(X_train, y_train)\n",
    "    lasso_model_r2 = lasso_model.score(X_test, y_test)\n",
    "    print(f\"Alpha: {alfa} r2: {lasso_model_r2} \")"
   ]
  },
  {
   "cell_type": "markdown",
   "metadata": {},
   "source": [
    "De manera similar al caso con la regresión Ridge, los valores de $\\alpha$ con mejor r2 son aquellos que están más cercanos a 0, lo que quiere decir que el mejor modelo es aquel que no penaliza a las características."
   ]
  },
  {
   "cell_type": "markdown",
   "metadata": {},
   "source": [
    "## Redes elásticas"
   ]
  },
  {
   "cell_type": "code",
   "execution_count": 20,
   "metadata": {},
   "outputs": [
    {
     "data": {
      "text/plain": [
       "(34.432332214642514,\n",
       " array([ 1.22639503e+00,  0.00000000e+00,  0.00000000e+00,  0.00000000e+00,\n",
       "         0.00000000e+00,  0.00000000e+00,  2.18183799e+00,  1.79623262e+00,\n",
       "        -8.51602087e-01,  8.97146788e-01, -0.00000000e+00,  3.83977442e-01,\n",
       "         0.00000000e+00,  2.24651054e-01,  0.00000000e+00,  7.95737416e-02,\n",
       "         5.91661572e-01,  1.10946523e+00, -0.00000000e+00,  2.01873846e-02,\n",
       "         0.00000000e+00,  1.30520888e-01,  7.31677427e-01, -0.00000000e+00,\n",
       "         0.00000000e+00,  0.00000000e+00,  1.04146161e+00,  2.06855126e+00,\n",
       "        -4.90147364e-01,  8.59542683e-01,  6.66463602e-01, -4.06946540e-01,\n",
       "        -0.00000000e+00, -7.91324017e-01, -0.00000000e+00,  0.00000000e+00,\n",
       "         0.00000000e+00,  0.00000000e+00,  0.00000000e+00, -0.00000000e+00,\n",
       "        -3.71287495e-01, -1.32136959e-01, -0.00000000e+00, -1.66437300e+00,\n",
       "        -2.31211964e+00, -3.45626059e-01, -1.16930895e+00,  0.00000000e+00,\n",
       "        -0.00000000e+00,  3.61976563e-01,  2.16727462e-01, -0.00000000e+00,\n",
       "        -0.00000000e+00, -0.00000000e+00,  0.00000000e+00,  3.45708363e-01,\n",
       "         1.00874420e+00, -4.70722224e-01,  0.00000000e+00, -3.33092218e-01,\n",
       "        -1.44131742e+00,  1.15782159e+00,  3.07229731e+00, -9.46341357e-01,\n",
       "        -1.64895755e+00,  4.05836937e-04,  0.00000000e+00,  1.50080111e+00,\n",
       "         1.74378264e+00,  1.03981838e+00,  3.01440126e+00, -5.86971369e-01,\n",
       "        -4.42896513e-01, -3.81768439e-01, -1.66507086e-01,  1.73708973e-01,\n",
       "         6.50732413e-01, -4.69240888e-01, -0.00000000e+00, -8.11075306e-01,\n",
       "        -3.13266643e+00]))"
      ]
     },
     "execution_count": 20,
     "metadata": {},
     "output_type": "execute_result"
    }
   ],
   "source": [
    "elastic_model = ElasticNet().fit(X_train,y_train) #definimos el modelo\n",
    "elastic_model.intercept_, elastic_model.coef_ #parámetros del modelo"
   ]
  },
  {
   "cell_type": "code",
   "execution_count": 21,
   "metadata": {},
   "outputs": [
    {
     "data": {
      "text/plain": [
       "0.6181997699591375"
      ]
     },
     "execution_count": 21,
     "metadata": {},
     "output_type": "execute_result"
    }
   ],
   "source": [
    "elastic_model_r2 = elastic_model.score(X_test, y_test)\n",
    "elastic_model_r2"
   ]
  },
  {
   "cell_type": "code",
   "execution_count": 22,
   "metadata": {},
   "outputs": [
    {
     "name": "stdout",
     "output_type": "stream",
     "text": [
      "Alpha: 1.0\n",
      "r: 0.1 r2: 0.6136519973143714 \n",
      "r: 0.2 r2: 0.6145645512683622 \n",
      "r: 0.30000000000000004 r2: 0.615485864438587 \n",
      "r: 0.4 r2: 0.6166489299308973 \n",
      "r: 0.5 r2: 0.6181997699591375 \n",
      "r: 0.6 r2: 0.6203129523738418 \n",
      "r: 0.7000000000000001 r2: 0.6227750371318215 \n",
      "r: 0.8 r2: 0.6262123659413635 \n",
      "r: 0.9 r2: 0.6326952407233911 \n",
      "r: 1.0 r2: 0.6412812178842626 \n",
      "Alpha: 2.0\n",
      "r: 0.1 r2: 0.5864097892694103 \n",
      "r: 0.2 r2: 0.5868352465586248 \n",
      "r: 0.30000000000000004 r2: 0.5874646467307498 \n",
      "r: 0.4 r2: 0.5884009011338933 \n",
      "r: 0.5 r2: 0.5897261135712349 \n",
      "r: 0.6 r2: 0.5915558337597263 \n",
      "r: 0.7000000000000001 r2: 0.5942885720729911 \n",
      "r: 0.8 r2: 0.5978236686215732 \n",
      "r: 0.9 r2: 0.6042983182611139 \n",
      "r: 1.0 r2: 0.6086087245881242 \n",
      "Alpha: 3.0\n",
      "r: 0.1 r2: 0.5679447230610226 \n",
      "r: 0.2 r2: 0.5678456756751395 \n",
      "r: 0.30000000000000004 r2: 0.5679839657406942 \n",
      "r: 0.4 r2: 0.5686210959318748 \n",
      "r: 0.5 r2: 0.5694565780676801 \n",
      "r: 0.6 r2: 0.5708244637803302 \n",
      "r: 0.7000000000000001 r2: 0.5726904524694902 \n",
      "r: 0.8 r2: 0.5750476419190507 \n",
      "r: 0.9 r2: 0.5796762570644226 \n",
      "r: 1.0 r2: 0.5864227163374316 \n",
      "Alpha: 4.0\n",
      "r: 0.1 r2: 0.5531100343147475 \n",
      "r: 0.2 r2: 0.5522425302244497 \n",
      "r: 0.30000000000000004 r2: 0.5518040503557511 \n",
      "r: 0.4 r2: 0.5514122290255706 \n",
      "r: 0.5 r2: 0.550951237839345 \n",
      "r: 0.6 r2: 0.5507675341346643 \n",
      "r: 0.7000000000000001 r2: 0.5509072100889569 \n",
      "r: 0.8 r2: 0.5518326898327646 \n",
      "r: 0.9 r2: 0.5547974944233239 \n",
      "r: 1.0 r2: 0.5643775029123413 \n",
      "Alpha: 5.0\n",
      "r: 0.1 r2: 0.5398498481084324 \n",
      "r: 0.2 r2: 0.5383431991285378 \n",
      "r: 0.30000000000000004 r2: 0.5367975655907021 \n",
      "r: 0.4 r2: 0.5349079441579838 \n",
      "r: 0.5 r2: 0.532944492346932 \n",
      "r: 0.6 r2: 0.5307284733220887 \n",
      "r: 0.7000000000000001 r2: 0.5287963462273795 \n",
      "r: 0.8 r2: 0.5288908935571937 \n",
      "r: 0.9 r2: 0.5338454189376416 \n",
      "r: 1.0 r2: 0.5463392684449413 \n",
      "Alpha: 6.0\n",
      "r: 0.1 r2: 0.5275987868919809 \n",
      "r: 0.2 r2: 0.5252897372568669 \n",
      "r: 0.30000000000000004 r2: 0.5222739589024459 \n",
      "r: 0.4 r2: 0.5186877359329152 \n",
      "r: 0.5 r2: 0.5149085225684673 \n",
      "r: 0.6 r2: 0.5106468927886314 \n",
      "r: 0.7000000000000001 r2: 0.5075723719877943 \n",
      "r: 0.8 r2: 0.5085435004855731 \n",
      "r: 0.9 r2: 0.5114372983262256 \n",
      "r: 1.0 r2: 0.5313345672639186 \n",
      "Alpha: 7.0\n",
      "r: 0.1 r2: 0.5163147225421848 \n",
      "r: 0.2 r2: 0.512646668936731 \n",
      "r: 0.30000000000000004 r2: 0.5080211688793566 \n",
      "r: 0.4 r2: 0.5026611050654736 \n",
      "r: 0.5 r2: 0.4968563147579137 \n",
      "r: 0.6 r2: 0.4910270540179088 \n",
      "r: 0.7000000000000001 r2: 0.4872419770984271 \n",
      "r: 0.8 r2: 0.48742223098669335 \n",
      "r: 0.9 r2: 0.4872478567965072 \n",
      "r: 1.0 r2: 0.5133583322801827 \n",
      "Alpha: 8.0\n",
      "r: 0.1 r2: 0.5055999313564306 \n",
      "r: 0.2 r2: 0.5003459868500499 \n",
      "r: 0.30000000000000004 r2: 0.4940305371686483 \n",
      "r: 0.4 r2: 0.4867753391729416 \n",
      "r: 0.5 r2: 0.4788797293589794 \n",
      "r: 0.6 r2: 0.4719216267433771 \n",
      "r: 0.7000000000000001 r2: 0.46755325505762435 \n",
      "r: 0.8 r2: 0.4652343704810823 \n",
      "r: 0.9 r2: 0.4636006493713548 \n",
      "r: 1.0 r2: 0.49382724569089975 \n",
      "Alpha: 9.0\n",
      "r: 0.1 r2: 0.49531562173902133 \n",
      "r: 0.2 r2: 0.4883908889027585 \n",
      "r: 0.30000000000000004 r2: 0.48024120693359784 \n",
      "r: 0.4 r2: 0.4709816907962825 \n",
      "r: 0.5 r2: 0.46142489660039465 \n",
      "r: 0.6 r2: 0.45302234955737697 \n",
      "r: 0.7000000000000001 r2: 0.44731685112892383 \n",
      "r: 0.8 r2: 0.4420396201615451 \n",
      "r: 0.9 r2: 0.4417687126769074 \n",
      "r: 1.0 r2: 0.47582082270091186 \n",
      "Alpha: 10.0\n",
      "r: 0.1 r2: 0.48540626568747414 \n",
      "r: 0.2 r2: 0.4767328013619866 \n",
      "r: 0.30000000000000004 r2: 0.4665675895364626 \n",
      "r: 0.4 r2: 0.4553909700515837 \n",
      "r: 0.5 r2: 0.4442706931741278 \n",
      "r: 0.6 r2: 0.4344671896779274 \n",
      "r: 0.7000000000000001 r2: 0.42651114988355765 \n",
      "r: 0.8 r2: 0.41867945426361275 \n",
      "r: 0.9 r2: 0.420329599529925 \n",
      "r: 1.0 r2: 0.45563208651475817 \n"
     ]
    }
   ],
   "source": [
    "for alfa in np.linspace(1.0,10,10):\n",
    "    print(f\"Alpha: {alfa}\")\n",
    "    for r in np.linspace(0.1,1.0,10):\n",
    "        elastic_model = ElasticNet(alpha=alfa,l1_ratio=r).fit(X_train, y_train)\n",
    "        elastic_model_r2 = elastic_model.score(X_test, y_test)\n",
    "        print(f\"r: {r} r2: {elastic_model_r2} \")"
   ]
  },
  {
   "cell_type": "markdown",
   "metadata": {},
   "source": [
    "Con la red elástica, que es una combinación entre la Ridge y la Lasso, notamos que el r2 empeora a medida que se aumentan los hiperparámetros $r$ y $\\alpha$, dando la misma conclusión anterior, es decir, el modelo con mejor r2 es el no regularizado."
   ]
  },
  {
   "cell_type": "markdown",
   "metadata": {},
   "source": [
    "Se decide conservar el primer modelo, es decir, la regresión lineal no regularizada"
   ]
  },
  {
   "cell_type": "code",
   "execution_count": null,
   "metadata": {},
   "outputs": [],
   "source": []
  },
  {
   "cell_type": "code",
   "execution_count": null,
   "metadata": {},
   "outputs": [],
   "source": []
  },
  {
   "cell_type": "markdown",
   "metadata": {},
   "source": [
    "# Clasificación"
   ]
  },
  {
   "cell_type": "markdown",
   "metadata": {},
   "source": [
    "[Searching for exotic particles in high-energy physics with deep learning](https://www.nature.com/articles/ncomms5308.pdf)\n",
    "\n",
    "Las colisiones de alta energía en aceleradores de partículas son fuente para la búsqueda y descubrimiento de nuevas partículas exóticas. Sin embargo, encontrar estar partículas exóticas requiere resolver el difícil problema de discriminar la señal en contra del ruido. \n",
    "\n",
    "Este problema en específico busca distinguir procesos en colisionadores de hadrónes en los cuales se producen partículas supersiméticas (SUSY) en contra de procesos en los cuales estas partículas no son producidas.\n",
    "\n",
    "Este dataset contiene en la primera columna la clase objetivo (1 para procesos SUSY y 0 en caso contrario). Las demás columnas son caraterísticas usadas opara la tarea predictiva, divididas en dos tipos:\n",
    "- Las primeras ocho columnas corresponden a propiedades cinemáticas de las colisiones medidas por los detectores en el acelerador. Estas son llamadas características de bajo nivel.\n",
    "- Las demás diez columnas corresponden a características de alto nivel que son derivadas por los científicos para ayudar a la discriminación de las dos clases.\n",
    "\n",
    "**Objetivo:** \n",
    "\n",
    "**1)** Entrenar 9 modelos de clasificación usando regresión logística (RL), árboles de decisión (ADD) y support vector machines (SVM) donde se usen:\n",
    "- Solo las características de bajo nivel.\n",
    "- Solo las características de alto nivel.\n",
    "- Todas las características (bajo+alto nivel).\n",
    "\n",
    "**2)** Para cada uno de los modelos entrenados (RL, ADD, SVM), seleccione el mejor modelo de cada tipo y optimicelo a partir de sus hiperparámetros.\n",
    "\n",
    "**3)** Compare el desempeño de los modelos optimizados en _2)_. Para esto sobreponga las curvas ROC de cada uno de estos modelos en un solo gráfico y calcule el área bajo la curva para cada modelo. Discuta su resultado. Compare su resultado con la figura 7 del artículo y argumente las diferencias."
   ]
  },
  {
   "cell_type": "code",
   "execution_count": 23,
   "metadata": {},
   "outputs": [
    {
     "name": "stdout",
     "output_type": "stream",
     "text": [
      "--2021-10-09 01:57:47--  https://archive.ics.uci.edu/ml/machine-learning-databases/00279/SUSY.csv.gz\n",
      "Resolviendo archive.ics.uci.edu (archive.ics.uci.edu)... 128.195.10.252\n",
      "Conectando con archive.ics.uci.edu (archive.ics.uci.edu)[128.195.10.252]:443... conectado.\n",
      "Petición HTTP enviada, esperando respuesta... 200 OK\n",
      "Longitud: 922377711 (880M) [application/x-httpd-php]\n",
      "Guardando como: “susy_dataset.csv.gz”\n",
      "\n",
      "susy_dataset.csv.gz 100%[===================>] 879,65M  1,01MB/s    en 41m 54s \n",
      "\n",
      "2021-10-09 02:39:42 (358 KB/s) - “susy_dataset.csv.gz” guardado [922377711/922377711]\n",
      "\n"
     ]
    }
   ],
   "source": [
    "!wget -O susy_dataset.csv.gz https://archive.ics.uci.edu/ml/machine-learning-databases/00279/SUSY.csv.gz\n",
    "column_names = [\"class\", \"lepton 1 pT\", \"lepton 1 eta\", \"lepton 1 phi\", \"lepton 2 pT\", \"lepton 2 eta\", \"lepton 2 phi\", \"missing energy magnitude\", \"missing energy phi\", \"MET_rel\", \"axial MET\", \"M_R\", \"M_TR_2\", \"R\", \"MT2\", \"S_R\", \"M_Delta_R\", \"dPhi_r_b\", \"cos(theta_r1)\"]\n",
    "susy_data = pd.read_csv(\"susy_dataset.csv.gz\", compression=\"gzip\", names=column_names)"
   ]
  },
  {
   "cell_type": "code",
   "execution_count": 24,
   "metadata": {},
   "outputs": [
    {
     "data": {
      "text/html": [
       "<div>\n",
       "<style scoped>\n",
       "    .dataframe tbody tr th:only-of-type {\n",
       "        vertical-align: middle;\n",
       "    }\n",
       "\n",
       "    .dataframe tbody tr th {\n",
       "        vertical-align: top;\n",
       "    }\n",
       "\n",
       "    .dataframe thead th {\n",
       "        text-align: right;\n",
       "    }\n",
       "</style>\n",
       "<table border=\"1\" class=\"dataframe\">\n",
       "  <thead>\n",
       "    <tr style=\"text-align: right;\">\n",
       "      <th></th>\n",
       "      <th>class</th>\n",
       "      <th>lepton 1 pT</th>\n",
       "      <th>lepton 1 eta</th>\n",
       "      <th>lepton 1 phi</th>\n",
       "      <th>lepton 2 pT</th>\n",
       "      <th>lepton 2 eta</th>\n",
       "      <th>lepton 2 phi</th>\n",
       "      <th>missing energy magnitude</th>\n",
       "      <th>missing energy phi</th>\n",
       "      <th>MET_rel</th>\n",
       "      <th>axial MET</th>\n",
       "      <th>M_R</th>\n",
       "      <th>M_TR_2</th>\n",
       "      <th>R</th>\n",
       "      <th>MT2</th>\n",
       "      <th>S_R</th>\n",
       "      <th>M_Delta_R</th>\n",
       "      <th>dPhi_r_b</th>\n",
       "      <th>cos(theta_r1)</th>\n",
       "    </tr>\n",
       "  </thead>\n",
       "  <tbody>\n",
       "    <tr>\n",
       "      <th>0</th>\n",
       "      <td>0.0</td>\n",
       "      <td>0.972861</td>\n",
       "      <td>0.653855</td>\n",
       "      <td>1.176225</td>\n",
       "      <td>1.157156</td>\n",
       "      <td>-1.739873</td>\n",
       "      <td>-0.874309</td>\n",
       "      <td>0.567765</td>\n",
       "      <td>-0.175000</td>\n",
       "      <td>0.810061</td>\n",
       "      <td>-0.252552</td>\n",
       "      <td>1.921887</td>\n",
       "      <td>0.889637</td>\n",
       "      <td>0.410772</td>\n",
       "      <td>1.145621</td>\n",
       "      <td>1.932632</td>\n",
       "      <td>0.994464</td>\n",
       "      <td>1.367815</td>\n",
       "      <td>0.040714</td>\n",
       "    </tr>\n",
       "    <tr>\n",
       "      <th>1</th>\n",
       "      <td>1.0</td>\n",
       "      <td>1.667973</td>\n",
       "      <td>0.064191</td>\n",
       "      <td>-1.225171</td>\n",
       "      <td>0.506102</td>\n",
       "      <td>-0.338939</td>\n",
       "      <td>1.672543</td>\n",
       "      <td>3.475464</td>\n",
       "      <td>-1.219136</td>\n",
       "      <td>0.012955</td>\n",
       "      <td>3.775174</td>\n",
       "      <td>1.045977</td>\n",
       "      <td>0.568051</td>\n",
       "      <td>0.481928</td>\n",
       "      <td>0.000000</td>\n",
       "      <td>0.448410</td>\n",
       "      <td>0.205356</td>\n",
       "      <td>1.321893</td>\n",
       "      <td>0.377584</td>\n",
       "    </tr>\n",
       "    <tr>\n",
       "      <th>2</th>\n",
       "      <td>1.0</td>\n",
       "      <td>0.444840</td>\n",
       "      <td>-0.134298</td>\n",
       "      <td>-0.709972</td>\n",
       "      <td>0.451719</td>\n",
       "      <td>-1.613871</td>\n",
       "      <td>-0.768661</td>\n",
       "      <td>1.219918</td>\n",
       "      <td>0.504026</td>\n",
       "      <td>1.831248</td>\n",
       "      <td>-0.431385</td>\n",
       "      <td>0.526283</td>\n",
       "      <td>0.941514</td>\n",
       "      <td>1.587535</td>\n",
       "      <td>2.024308</td>\n",
       "      <td>0.603498</td>\n",
       "      <td>1.562374</td>\n",
       "      <td>1.135454</td>\n",
       "      <td>0.180910</td>\n",
       "    </tr>\n",
       "    <tr>\n",
       "      <th>3</th>\n",
       "      <td>1.0</td>\n",
       "      <td>0.381256</td>\n",
       "      <td>-0.976145</td>\n",
       "      <td>0.693152</td>\n",
       "      <td>0.448959</td>\n",
       "      <td>0.891753</td>\n",
       "      <td>-0.677328</td>\n",
       "      <td>2.033060</td>\n",
       "      <td>1.533041</td>\n",
       "      <td>3.046260</td>\n",
       "      <td>-1.005285</td>\n",
       "      <td>0.569386</td>\n",
       "      <td>1.015211</td>\n",
       "      <td>1.582217</td>\n",
       "      <td>1.551914</td>\n",
       "      <td>0.761215</td>\n",
       "      <td>1.715464</td>\n",
       "      <td>1.492257</td>\n",
       "      <td>0.090719</td>\n",
       "    </tr>\n",
       "    <tr>\n",
       "      <th>4</th>\n",
       "      <td>1.0</td>\n",
       "      <td>1.309996</td>\n",
       "      <td>-0.690089</td>\n",
       "      <td>-0.676259</td>\n",
       "      <td>1.589283</td>\n",
       "      <td>-0.693326</td>\n",
       "      <td>0.622907</td>\n",
       "      <td>1.087562</td>\n",
       "      <td>-0.381742</td>\n",
       "      <td>0.589204</td>\n",
       "      <td>1.365479</td>\n",
       "      <td>1.179295</td>\n",
       "      <td>0.968218</td>\n",
       "      <td>0.728563</td>\n",
       "      <td>0.000000</td>\n",
       "      <td>1.083158</td>\n",
       "      <td>0.043429</td>\n",
       "      <td>1.154854</td>\n",
       "      <td>0.094859</td>\n",
       "    </tr>\n",
       "    <tr>\n",
       "      <th>...</th>\n",
       "      <td>...</td>\n",
       "      <td>...</td>\n",
       "      <td>...</td>\n",
       "      <td>...</td>\n",
       "      <td>...</td>\n",
       "      <td>...</td>\n",
       "      <td>...</td>\n",
       "      <td>...</td>\n",
       "      <td>...</td>\n",
       "      <td>...</td>\n",
       "      <td>...</td>\n",
       "      <td>...</td>\n",
       "      <td>...</td>\n",
       "      <td>...</td>\n",
       "      <td>...</td>\n",
       "      <td>...</td>\n",
       "      <td>...</td>\n",
       "      <td>...</td>\n",
       "      <td>...</td>\n",
       "    </tr>\n",
       "    <tr>\n",
       "      <th>4999995</th>\n",
       "      <td>1.0</td>\n",
       "      <td>0.853325</td>\n",
       "      <td>-0.961783</td>\n",
       "      <td>-1.487277</td>\n",
       "      <td>0.678190</td>\n",
       "      <td>0.493580</td>\n",
       "      <td>1.647969</td>\n",
       "      <td>1.843867</td>\n",
       "      <td>0.276954</td>\n",
       "      <td>1.025105</td>\n",
       "      <td>-1.486535</td>\n",
       "      <td>0.892879</td>\n",
       "      <td>1.684429</td>\n",
       "      <td>1.674084</td>\n",
       "      <td>3.366298</td>\n",
       "      <td>1.046707</td>\n",
       "      <td>2.646649</td>\n",
       "      <td>1.389226</td>\n",
       "      <td>0.364599</td>\n",
       "    </tr>\n",
       "    <tr>\n",
       "      <th>4999996</th>\n",
       "      <td>0.0</td>\n",
       "      <td>0.951581</td>\n",
       "      <td>0.139370</td>\n",
       "      <td>1.436884</td>\n",
       "      <td>0.880440</td>\n",
       "      <td>-0.351948</td>\n",
       "      <td>-0.740852</td>\n",
       "      <td>0.290863</td>\n",
       "      <td>-0.732360</td>\n",
       "      <td>0.001360</td>\n",
       "      <td>0.257738</td>\n",
       "      <td>0.802871</td>\n",
       "      <td>0.545319</td>\n",
       "      <td>0.602730</td>\n",
       "      <td>0.002998</td>\n",
       "      <td>0.748959</td>\n",
       "      <td>0.401166</td>\n",
       "      <td>0.443471</td>\n",
       "      <td>0.239953</td>\n",
       "    </tr>\n",
       "    <tr>\n",
       "      <th>4999997</th>\n",
       "      <td>0.0</td>\n",
       "      <td>0.840389</td>\n",
       "      <td>1.419162</td>\n",
       "      <td>-1.218766</td>\n",
       "      <td>1.195631</td>\n",
       "      <td>1.695645</td>\n",
       "      <td>0.663756</td>\n",
       "      <td>0.490888</td>\n",
       "      <td>-0.509186</td>\n",
       "      <td>0.704289</td>\n",
       "      <td>0.045744</td>\n",
       "      <td>0.825015</td>\n",
       "      <td>0.723530</td>\n",
       "      <td>0.778236</td>\n",
       "      <td>0.752942</td>\n",
       "      <td>0.838953</td>\n",
       "      <td>0.614048</td>\n",
       "      <td>1.210595</td>\n",
       "      <td>0.026692</td>\n",
       "    </tr>\n",
       "    <tr>\n",
       "      <th>4999998</th>\n",
       "      <td>1.0</td>\n",
       "      <td>1.784218</td>\n",
       "      <td>-0.833565</td>\n",
       "      <td>-0.560091</td>\n",
       "      <td>0.953342</td>\n",
       "      <td>-0.688969</td>\n",
       "      <td>-1.428233</td>\n",
       "      <td>2.660703</td>\n",
       "      <td>-0.861344</td>\n",
       "      <td>2.116892</td>\n",
       "      <td>2.906151</td>\n",
       "      <td>1.232334</td>\n",
       "      <td>0.952444</td>\n",
       "      <td>0.685846</td>\n",
       "      <td>0.000000</td>\n",
       "      <td>0.781874</td>\n",
       "      <td>0.676003</td>\n",
       "      <td>1.197807</td>\n",
       "      <td>0.093689</td>\n",
       "    </tr>\n",
       "    <tr>\n",
       "      <th>4999999</th>\n",
       "      <td>0.0</td>\n",
       "      <td>0.761500</td>\n",
       "      <td>0.680454</td>\n",
       "      <td>-1.186213</td>\n",
       "      <td>1.043521</td>\n",
       "      <td>-0.316755</td>\n",
       "      <td>0.246879</td>\n",
       "      <td>1.120280</td>\n",
       "      <td>0.998479</td>\n",
       "      <td>1.640881</td>\n",
       "      <td>-0.797688</td>\n",
       "      <td>0.854212</td>\n",
       "      <td>1.121858</td>\n",
       "      <td>1.165438</td>\n",
       "      <td>1.498351</td>\n",
       "      <td>0.931580</td>\n",
       "      <td>1.293524</td>\n",
       "      <td>1.539167</td>\n",
       "      <td>0.187496</td>\n",
       "    </tr>\n",
       "  </tbody>\n",
       "</table>\n",
       "<p>5000000 rows × 19 columns</p>\n",
       "</div>"
      ],
      "text/plain": [
       "         class  lepton 1 pT  lepton 1 eta  lepton 1 phi  lepton 2 pT  \\\n",
       "0          0.0     0.972861      0.653855      1.176225     1.157156   \n",
       "1          1.0     1.667973      0.064191     -1.225171     0.506102   \n",
       "2          1.0     0.444840     -0.134298     -0.709972     0.451719   \n",
       "3          1.0     0.381256     -0.976145      0.693152     0.448959   \n",
       "4          1.0     1.309996     -0.690089     -0.676259     1.589283   \n",
       "...        ...          ...           ...           ...          ...   \n",
       "4999995    1.0     0.853325     -0.961783     -1.487277     0.678190   \n",
       "4999996    0.0     0.951581      0.139370      1.436884     0.880440   \n",
       "4999997    0.0     0.840389      1.419162     -1.218766     1.195631   \n",
       "4999998    1.0     1.784218     -0.833565     -0.560091     0.953342   \n",
       "4999999    0.0     0.761500      0.680454     -1.186213     1.043521   \n",
       "\n",
       "         lepton 2 eta  lepton 2 phi  missing energy magnitude  \\\n",
       "0           -1.739873     -0.874309                  0.567765   \n",
       "1           -0.338939      1.672543                  3.475464   \n",
       "2           -1.613871     -0.768661                  1.219918   \n",
       "3            0.891753     -0.677328                  2.033060   \n",
       "4           -0.693326      0.622907                  1.087562   \n",
       "...               ...           ...                       ...   \n",
       "4999995      0.493580      1.647969                  1.843867   \n",
       "4999996     -0.351948     -0.740852                  0.290863   \n",
       "4999997      1.695645      0.663756                  0.490888   \n",
       "4999998     -0.688969     -1.428233                  2.660703   \n",
       "4999999     -0.316755      0.246879                  1.120280   \n",
       "\n",
       "         missing energy phi   MET_rel  axial MET       M_R    M_TR_2  \\\n",
       "0                 -0.175000  0.810061  -0.252552  1.921887  0.889637   \n",
       "1                 -1.219136  0.012955   3.775174  1.045977  0.568051   \n",
       "2                  0.504026  1.831248  -0.431385  0.526283  0.941514   \n",
       "3                  1.533041  3.046260  -1.005285  0.569386  1.015211   \n",
       "4                 -0.381742  0.589204   1.365479  1.179295  0.968218   \n",
       "...                     ...       ...        ...       ...       ...   \n",
       "4999995            0.276954  1.025105  -1.486535  0.892879  1.684429   \n",
       "4999996           -0.732360  0.001360   0.257738  0.802871  0.545319   \n",
       "4999997           -0.509186  0.704289   0.045744  0.825015  0.723530   \n",
       "4999998           -0.861344  2.116892   2.906151  1.232334  0.952444   \n",
       "4999999            0.998479  1.640881  -0.797688  0.854212  1.121858   \n",
       "\n",
       "                R       MT2       S_R  M_Delta_R  dPhi_r_b  cos(theta_r1)  \n",
       "0        0.410772  1.145621  1.932632   0.994464  1.367815       0.040714  \n",
       "1        0.481928  0.000000  0.448410   0.205356  1.321893       0.377584  \n",
       "2        1.587535  2.024308  0.603498   1.562374  1.135454       0.180910  \n",
       "3        1.582217  1.551914  0.761215   1.715464  1.492257       0.090719  \n",
       "4        0.728563  0.000000  1.083158   0.043429  1.154854       0.094859  \n",
       "...           ...       ...       ...        ...       ...            ...  \n",
       "4999995  1.674084  3.366298  1.046707   2.646649  1.389226       0.364599  \n",
       "4999996  0.602730  0.002998  0.748959   0.401166  0.443471       0.239953  \n",
       "4999997  0.778236  0.752942  0.838953   0.614048  1.210595       0.026692  \n",
       "4999998  0.685846  0.000000  0.781874   0.676003  1.197807       0.093689  \n",
       "4999999  1.165438  1.498351  0.931580   1.293524  1.539167       0.187496  \n",
       "\n",
       "[5000000 rows x 19 columns]"
      ]
     },
     "execution_count": 24,
     "metadata": {},
     "output_type": "execute_result"
    }
   ],
   "source": [
    "susy_data"
   ]
  },
  {
   "cell_type": "code",
   "execution_count": 25,
   "metadata": {},
   "outputs": [
    {
     "data": {
      "text/plain": [
       "Index(['class', 'lepton 1 pT', 'lepton 1 eta', 'lepton 1 phi', 'lepton 2 pT',\n",
       "       'lepton 2 eta', 'lepton 2 phi', 'missing energy magnitude',\n",
       "       'missing energy phi', 'MET_rel', 'axial MET', 'M_R', 'M_TR_2', 'R',\n",
       "       'MT2', 'S_R', 'M_Delta_R', 'dPhi_r_b', 'cos(theta_r1)'],\n",
       "      dtype='object')"
      ]
     },
     "execution_count": 25,
     "metadata": {},
     "output_type": "execute_result"
    }
   ],
   "source": [
    "susy_data.columns"
   ]
  },
  {
   "cell_type": "markdown",
   "metadata": {},
   "source": [
    "# Características de bajo nivel"
   ]
  },
  {
   "cell_type": "code",
   "execution_count": 26,
   "metadata": {},
   "outputs": [],
   "source": [
    "#X2, y2, para este segundo numeral\n",
    "X2_low = susy_data[['lepton 1 pT', 'lepton 1 eta', 'lepton 1 phi', 'lepton 2 pT',\n",
    "       'lepton 2 eta', 'lepton 2 phi', 'missing energy magnitude',\n",
    "       'missing energy phi']]\n",
    "\n",
    "y2 = susy_data[\"class\"] #variable objetivo"
   ]
  },
  {
   "cell_type": "code",
   "execution_count": 44,
   "metadata": {},
   "outputs": [],
   "source": [
    "X2_train_low, X2_test_low, y2_train_low, y2_test_low = train_test_split(X2_low, y2,test_size=0.01,\n",
    "                                                                        train_size=0.05, random_state=20)\n",
    "#se toman fracciones pequeñas de train test para que no se demore tanto"
   ]
  },
  {
   "cell_type": "code",
   "execution_count": 45,
   "metadata": {},
   "outputs": [],
   "source": [
    "LR_low = LogisticRegression().fit(X2_train_low, y2_train_low)"
   ]
  },
  {
   "cell_type": "code",
   "execution_count": 46,
   "metadata": {},
   "outputs": [],
   "source": [
    "ADD_low = DecisionTreeRegressor().fit(X2_train_low, y2_train_low)"
   ]
  },
  {
   "cell_type": "code",
   "execution_count": 34,
   "metadata": {},
   "outputs": [],
   "source": [
    "SVM_low = SVC().fit(X2_train_low, y2_train_low)"
   ]
  },
  {
   "cell_type": "code",
   "execution_count": 48,
   "metadata": {},
   "outputs": [],
   "source": [
    "def report(model, testX, testY, fullX, fullY): #para imprimir classification report y calcular accuraccy\n",
    "    Ypred = model.predict(testX)\n",
    "    print(classification_report(testY, Ypred))\n",
    "    scores = cross_val_score(model,fullX, fullY, cv=5)\n",
    "    scores\n",
    "    print(f\"Accuraccy : {scores.mean()}  stdv : {scores.std()}\")"
   ]
  },
  {
   "cell_type": "code",
   "execution_count": 49,
   "metadata": {},
   "outputs": [
    {
     "name": "stdout",
     "output_type": "stream",
     "text": [
      "              precision    recall  f1-score   support\n",
      "\n",
      "         0.0       0.75      0.86      0.80     27145\n",
      "         1.0       0.80      0.65      0.72     22855\n",
      "\n",
      "    accuracy                           0.77     50000\n",
      "   macro avg       0.77      0.76      0.76     50000\n",
      "weighted avg       0.77      0.77      0.76     50000\n",
      "\n",
      "Accuraccy : 0.7681366  stdv : 0.00042946413121471667\n"
     ]
    }
   ],
   "source": [
    "report(LR_low, X2_test_low, y2_test_low,X2_low,y2)"
   ]
  },
  {
   "cell_type": "code",
   "execution_count": 50,
   "metadata": {},
   "outputs": [
    {
     "name": "stdout",
     "output_type": "stream",
     "text": [
      "              precision    recall  f1-score   support\n",
      "\n",
      "         0.0       0.72      0.72      0.72     27145\n",
      "         1.0       0.67      0.67      0.67     22855\n",
      "\n",
      "    accuracy                           0.70     50000\n",
      "   macro avg       0.69      0.70      0.69     50000\n",
      "weighted avg       0.70      0.70      0.70     50000\n",
      "\n",
      "Accuraccy : -0.2111563082696981  stdv : 0.0019816399553791715\n"
     ]
    }
   ],
   "source": [
    "report(ADD_low, X2_test_low, y2_test_low,X2_low,y2)"
   ]
  },
  {
   "cell_type": "code",
   "execution_count": null,
   "metadata": {},
   "outputs": [],
   "source": []
  },
  {
   "cell_type": "markdown",
   "metadata": {},
   "source": [
    "# Hasta aquí se corrió el código, el resto fue programado pero no corrido."
   ]
  },
  {
   "cell_type": "code",
   "execution_count": null,
   "metadata": {},
   "outputs": [],
   "source": []
  },
  {
   "cell_type": "code",
   "execution_count": null,
   "metadata": {},
   "outputs": [],
   "source": []
  },
  {
   "cell_type": "markdown",
   "metadata": {},
   "source": [
    "Valores anómalos en el Accuraccy del ADD llevan a descartar este modelo."
   ]
  },
  {
   "cell_type": "code",
   "execution_count": null,
   "metadata": {},
   "outputs": [
    {
     "name": "stdout",
     "output_type": "stream",
     "text": [
      "              precision    recall  f1-score   support\n",
      "\n",
      "         0.0       0.76      0.89      0.82     27145\n",
      "         1.0       0.84      0.67      0.75     22855\n",
      "\n",
      "    accuracy                           0.79     50000\n",
      "   macro avg       0.80      0.78      0.79     50000\n",
      "weighted avg       0.80      0.79      0.79     50000\n",
      "\n"
     ]
    }
   ],
   "source": [
    "report(SVM_low, X2_test_low, y2_test_low,X2_low,y2)"
   ]
  },
  {
   "cell_type": "markdown",
   "metadata": {},
   "source": [
    "# Características de alto nivel"
   ]
  },
  {
   "cell_type": "code",
   "execution_count": null,
   "metadata": {},
   "outputs": [],
   "source": [
    "X2_high = susy_data[['MET_rel', 'axial MET', 'M_R', 'M_TR_2', 'R',\n",
    "       'MT2', 'S_R', 'M_Delta_R', 'dPhi_r_b', 'cos(theta_r1)']]"
   ]
  },
  {
   "cell_type": "code",
   "execution_count": null,
   "metadata": {},
   "outputs": [],
   "source": [
    "X2_train_high, X2_test_high, y2_train_high, y2_test_high = train_test_split(X2_high, y2,test_size=0.01,\n",
    "                                                                        train_size=0.05, random_state=20)"
   ]
  },
  {
   "cell_type": "code",
   "execution_count": null,
   "metadata": {},
   "outputs": [],
   "source": [
    "LR_high = LogisticRegression().fit(X2_train_high, y2_train_high)"
   ]
  },
  {
   "cell_type": "code",
   "execution_count": null,
   "metadata": {},
   "outputs": [],
   "source": [
    "ADD_high = DecisionTreeClassifier().fit(X2_train_high, y2_train_high)"
   ]
  },
  {
   "cell_type": "code",
   "execution_count": null,
   "metadata": {},
   "outputs": [],
   "source": [
    "SVM_high = SVC().fit(X2_train_high, y2_train_high)"
   ]
  },
  {
   "cell_type": "code",
   "execution_count": null,
   "metadata": {},
   "outputs": [],
   "source": [
    "report(LR_high, X2_test_high, y2_test_high, X2_high, y2)"
   ]
  },
  {
   "cell_type": "code",
   "execution_count": null,
   "metadata": {},
   "outputs": [],
   "source": [
    "report(ADD_high, X2_test_high, y2_test_high, X2_high, y2)"
   ]
  },
  {
   "cell_type": "code",
   "execution_count": null,
   "metadata": {},
   "outputs": [],
   "source": [
    "report(SVM_high, X2_test_high, y2_test_high, X2_high, y2)"
   ]
  },
  {
   "cell_type": "markdown",
   "metadata": {},
   "source": [
    "# Todas las características"
   ]
  },
  {
   "cell_type": "code",
   "execution_count": null,
   "metadata": {},
   "outputs": [],
   "source": [
    "X2_all = susy_data.select_dtypes(exclude=\"object\").drop(columns=[\"class\"])\n",
    "\n",
    "\n",
    "X2_all"
   ]
  },
  {
   "cell_type": "code",
   "execution_count": null,
   "metadata": {},
   "outputs": [],
   "source": [
    "X2_train_all, X2_test_all, y2_train_all, y2_test_all = train_test_split(X2_all, y2,test_size=0.01,\n",
    "                                                                        train_size=0.05, random_state=20)"
   ]
  },
  {
   "cell_type": "code",
   "execution_count": null,
   "metadata": {},
   "outputs": [],
   "source": [
    "LR_all = LogisticRegression().fit(X2_train_all, y2_train_all)"
   ]
  },
  {
   "cell_type": "code",
   "execution_count": null,
   "metadata": {},
   "outputs": [],
   "source": [
    "ADD_all = DecisionTreeRegressor().fit(X2_train_all, y2_train_all)"
   ]
  },
  {
   "cell_type": "code",
   "execution_count": null,
   "metadata": {},
   "outputs": [],
   "source": [
    "SVM_all = SVC().fit(X2_train_all, y2_train_all)"
   ]
  },
  {
   "cell_type": "code",
   "execution_count": null,
   "metadata": {},
   "outputs": [],
   "source": [
    "report(LR_all, X2_test_all, y2_test_all, X2_all, y2)"
   ]
  },
  {
   "cell_type": "code",
   "execution_count": null,
   "metadata": {},
   "outputs": [],
   "source": [
    "report(ADD_all, X2_test_all, y2_test_all, X2_all, y2)"
   ]
  },
  {
   "cell_type": "code",
   "execution_count": null,
   "metadata": {},
   "outputs": [],
   "source": [
    "report(SVM_all, X2_test_all, y2_test_all, X2_all, y2)"
   ]
  },
  {
   "cell_type": "markdown",
   "metadata": {},
   "source": [
    "# Mejores modelos...\n",
    "Tomando como criterio el puntaje Accuraccy, vemos que los mejores modelos son:\n",
    "\n",
    "* LR:\n",
    "\n",
    "* ADD:\n",
    "\n",
    "* SVM:"
   ]
  },
  {
   "cell_type": "code",
   "execution_count": null,
   "metadata": {},
   "outputs": [],
   "source": [
    "Tuning para LR:"
   ]
  },
  {
   "cell_type": "code",
   "execution_count": null,
   "metadata": {},
   "outputs": [],
   "source": [
    "\n",
    "\n",
    "grid_LR = GridSearchCV(best_LR(), param_grid)"
   ]
  },
  {
   "cell_type": "code",
   "execution_count": null,
   "metadata": {},
   "outputs": [],
   "source": [
    "grid_LR.fit(,)"
   ]
  },
  {
   "cell_type": "markdown",
   "metadata": {},
   "source": [
    "Tuning para ADD:"
   ]
  },
  {
   "cell_type": "code",
   "execution_count": null,
   "metadata": {},
   "outputs": [],
   "source": [
    "param_grid={\"splitter\":[\"best\",\"random\"],\n",
    "            \"max_depth\" : [1,3,5,7,9,11],\n",
    "           \"min_samples_leaf\":[1,2,3,4,5,6,7,8,9,10],\n",
    "           \"max_leaf_nodes\":[None,10,20,30,40,50,60,70,80]}\n",
    "\n",
    "grid_ADD = GridSearchCV(best_ADD(), param_grid)"
   ]
  },
  {
   "cell_type": "code",
   "execution_count": null,
   "metadata": {},
   "outputs": [],
   "source": [
    "grid_ADD.fit(,)"
   ]
  },
  {
   "cell_type": "markdown",
   "metadata": {},
   "source": [
    "Tuning para SVM:"
   ]
  },
  {
   "cell_type": "code",
   "execution_count": null,
   "metadata": {},
   "outputs": [],
   "source": [
    "param_grid = {'C': [0.1, 1, 10, 100, 1000],\n",
    "              'gamma': [1, 0.1, 0.01, 0.001, 0.0001],\n",
    "              'kernel': ['rbf']}\n",
    " \n",
    "grid_SMV = GridSearchCV(best_SVC(), param_grid)"
   ]
  },
  {
   "cell_type": "code",
   "execution_count": null,
   "metadata": {},
   "outputs": [],
   "source": [
    "grid_SMV.fit(,)"
   ]
  },
  {
   "cell_type": "markdown",
   "metadata": {},
   "source": [
    "# Curvas ROC"
   ]
  },
  {
   "cell_type": "code",
   "execution_count": null,
   "metadata": {},
   "outputs": [],
   "source": [
    "LR_pred = cross_val_predict(best_LR, , ) #falta agregar los conjuntos de entrenamiento correspondientes\n",
    "ADD_pred = cross_val_predict(best_ADD, , )\n",
    "SMV_pred = cross_val_predict(best_SMV, , )"
   ]
  },
  {
   "cell_type": "code",
   "execution_count": null,
   "metadata": {},
   "outputs": [],
   "source": [
    "plot_roc_curve(LR_pred, , , label=\"LR\")\n",
    "plot_roc_curve(ADD_pred, , , label=\"ADD\")\n",
    "plot_roc_curve(SMV_pred, , , label=\"SMV\")"
   ]
  },
  {
   "cell_type": "markdown",
   "metadata": {},
   "source": [
    "Las áreas bajo la curva (AUC):"
   ]
  },
  {
   "cell_type": "code",
   "execution_count": null,
   "metadata": {},
   "outputs": [],
   "source": [
    "roc_auc_score(, LR_pred) #falta agregar el conjunto de entrenamiento\n",
    "roc_auc_score(, ADD_pred)\n",
    "roc_auc_score(, SMV_pred)"
   ]
  }
 ],
 "metadata": {
  "kernelspec": {
   "display_name": "Python 3",
   "language": "python",
   "name": "python3"
  },
  "language_info": {
   "codemirror_mode": {
    "name": "ipython",
    "version": 3
   },
   "file_extension": ".py",
   "mimetype": "text/x-python",
   "name": "python",
   "nbconvert_exporter": "python",
   "pygments_lexer": "ipython3",
   "version": "3.8.10"
  }
 },
 "nbformat": 4,
 "nbformat_minor": 4
}
