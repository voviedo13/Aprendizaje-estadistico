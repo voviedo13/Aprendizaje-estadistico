{
  "nbformat": 4,
  "nbformat_minor": 0,
  "metadata": {
    "colab": {
      "name": "Tarea 2 VictorOviedo.ipynb",
      "provenance": [],
      "collapsed_sections": [],
      "include_colab_link": true
    },
    "kernelspec": {
      "name": "python3",
      "display_name": "Python 3"
    },
    "language_info": {
      "name": "python"
    }
  },
  "cells": [
    {
      "cell_type": "markdown",
      "metadata": {
        "id": "view-in-github",
        "colab_type": "text"
      },
      "source": [
        "<a href=\"https://colab.research.google.com/github/voviedo13/Aprendizaje-estadistico/blob/main/Tarea_2_VictorOviedo.ipynb\" target=\"_parent\"><img src=\"https://colab.research.google.com/assets/colab-badge.svg\" alt=\"Open In Colab\"/></a>"
      ]
    },
    {
      "cell_type": "code",
      "metadata": {
        "id": "FPEXP8Z7_RK0"
      },
      "source": [
        "import numpy as np\n",
        "import matplotlib.pyplot as plt\n",
        "import matplotlib.pyplot as plt\n",
        "import seaborn as sns\n",
        "from sklearn.linear_model import LinearRegression"
      ],
      "execution_count": 1,
      "outputs": []
    },
    {
      "cell_type": "code",
      "metadata": {
        "id": "UrXYCYTD6-XL"
      },
      "source": [
        "x = 2 * np.random.rand(100,1)\n",
        "y = 4 + 3 * x + np.random.rand(100,1)"
      ],
      "execution_count": 2,
      "outputs": []
    },
    {
      "cell_type": "code",
      "metadata": {
        "colab": {
          "base_uri": "https://localhost:8080/",
          "height": 282
        },
        "id": "Osyz5f_gDc5O",
        "outputId": "70708378-8012-41ab-f963-3a251739c56f"
      },
      "source": [
        "plt.plot(x,y, 'o')"
      ],
      "execution_count": 3,
      "outputs": [
        {
          "output_type": "execute_result",
          "data": {
            "text/plain": [
              "[<matplotlib.lines.Line2D at 0x7f3a1ed0d350>]"
            ]
          },
          "metadata": {
            "tags": []
          },
          "execution_count": 3
        },
        {
          "output_type": "display_data",
          "data": {
            "image/png": "[encoded data removed]",
            "text/plain": [
              "<Figure size 432x288 with 1 Axes>"
            ]
          },
          "metadata": {
            "tags": [],
            "needs_background": "light"
          }
        }
      ]
    },
    {
      "cell_type": "markdown",
      "metadata": {
        "id": "1uU93x_mMv3x"
      },
      "source": [
        "**TAREA**: ejecute esto una cantidad de veces significativa (1000) y calcule el promedio y la desviación estándar de los valores estimados para el intercepto y la pendiente. ¿Cómo se diferencian de los valores reales y por qué?"
      ]
    },
    {
      "cell_type": "code",
      "metadata": {
        "id": "3a62GQbRGV72"
      },
      "source": [
        "def train(x,y):\n",
        "  linear_regression = LinearRegression()\n",
        "  # ahora entrenamos el modelo\n",
        "  model = linear_regression.fit(x,y)\n",
        "  return model"
      ],
      "execution_count": 4,
      "outputs": []
    },
    {
      "cell_type": "code",
      "metadata": {
        "id": "R-d60xU4HI3-"
      },
      "source": [
        "c = [] #interceptos\n",
        "s = [] #pendientes\n",
        "n = 1000\n",
        "for i in range(n):\n",
        "  x = 2 * np.random.rand(100,1)\n",
        "  y = 4 + 3 * x + np.random.rand(100,1)\n",
        "  model = train(x,y)\n",
        "  c.append(model.intercept_)\n",
        "  s.append(model.coef_.reshape(1))"
      ],
      "execution_count": 5,
      "outputs": []
    },
    {
      "cell_type": "code",
      "metadata": {
        "id": "l1EVAFKlUVQz"
      },
      "source": [
        "#desviaciones y promedios\n",
        "desv_c = np.std(c)\n",
        "ave_c = np.average(c)\n",
        "\n",
        "desv_s = np.std(s)\n",
        "ave_s = np.average(s)"
      ],
      "execution_count": 6,
      "outputs": []
    },
    {
      "cell_type": "code",
      "metadata": {
        "colab": {
          "base_uri": "https://localhost:8080/",
          "height": 302
        },
        "id": "eRL93MAZVX7I",
        "outputId": "9d65db7f-7dfb-4db2-8a84-badf31c65b39"
      },
      "source": [
        "fig, axs = plt.subplots(1, 2, sharey=True, tight_layout=True)\n",
        "fig.suptitle('Histogramas')\n",
        "axs[0].set_title('Interceptos')\n",
        "axs[1].set_title('Pendientes')\n",
        "axs[0].hist(np.array(c))\n",
        "axs[1].hist(np.array(s));"
      ],
      "execution_count": 21,
      "outputs": [
        {
          "output_type": "display_data",
          "data": {
            "image/png": "[encoded data removed]",
            "text/plain": [
              "<Figure size 432x288 with 2 Axes>"
            ]
          },
          "metadata": {
            "tags": [],
            "needs_background": "light"
          }
        }
      ]
    },
    {
      "cell_type": "code",
      "metadata": {
        "colab": {
          "base_uri": "https://localhost:8080/",
          "height": 356
        },
        "id": "21ukJqsr-oqm",
        "outputId": "bb7daee4-9468-4a33-f638-5ebfd0a0855d"
      },
      "source": [
        "fig, axes = plt.subplots(1, 2, figsize=(15, 5), sharey=True)\n",
        "fig.suptitle('Diagramas de cajas')\n",
        "\n",
        "# Interceptos\n",
        "sns.boxplot(ax=axes[0], x=np.array(c))\n",
        "axes[0].set_title('Interceptos')\n",
        "\n",
        "# Pendientes\n",
        "sns.boxplot(ax=axes[1], x=np.array(s))\n",
        "axes[1].set_title('Pendientes');"
      ],
      "execution_count": 27,
      "outputs": [
        {
          "output_type": "display_data",
          "data": {
            "image/png": "[encoded data removed]",
            "text/plain": [
              "<Figure size 1080x360 with 2 Axes>"
            ]
          },
          "metadata": {
            "tags": [],
            "needs_background": "light"
          }
        }
      ]
    },
    {
      "cell_type": "markdown",
      "metadata": {
        "id": "m1dR7ODm_hP_"
      },
      "source": [
        "De los hisotogramas se puede ver que la distribución a la que se ajustan los datos es gaussiana y de los diagramas de cajas se puede ver que la media está centrada, es decir, la distribución es simétrica, lo que da fuerza a la hipótesis de que las pendientes y los interceptos se distribuyen siguiendo una distribución gaussiana."
      ]
    },
    {
      "cell_type": "code",
      "metadata": {
        "colab": {
          "base_uri": "https://localhost:8080/"
        },
        "id": "glv04F9CAJaJ",
        "outputId": "7bd0c077-b627-41e4-aecb-50e8eb8e24ba"
      },
      "source": [
        "print(\"Para los interceptos se obtiene:\",ave_c,\"+/-\",desv_c)\n",
        "print(\"Para las pendientes se obtiene:\",ave_s,\"+/-\",desv_s)"
      ],
      "execution_count": 29,
      "outputs": [
        {
          "output_type": "stream",
          "text": [
            "Para los interceptos se obtiene: 4.4999040505921135 +/- 0.05699054017218687\n",
            "Para las pendientes se obtiene: 3.0002216677095683 +/- 0.04955619674822447\n"
          ],
          "name": "stdout"
        }
      ]
    }
  ]
}